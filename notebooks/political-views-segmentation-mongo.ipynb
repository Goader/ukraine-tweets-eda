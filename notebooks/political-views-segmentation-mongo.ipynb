{
 "cells": [
  {
   "cell_type": "markdown",
   "id": "93451664",
   "metadata": {},
   "source": [
    "# Political Views Segmentation"
   ]
  },
  {
   "cell_type": "code",
   "execution_count": 2,
   "id": "a143e53b",
   "metadata": {},
   "outputs": [],
   "source": [
    "import numpy as np\n",
    "import pandas as pd\n",
    "import seaborn as sns\n",
    "import matplotlib.pyplot as plt\n",
    "\n",
    "import dask\n",
    "import dask_mongo\n",
    "import dask.dataframe as dd\n",
    "\n",
    "from langcodes import Language"
   ]
  },
  {
   "cell_type": "code",
   "execution_count": 3,
   "id": "061a6c95",
   "metadata": {},
   "outputs": [],
   "source": [
    "sns.set_theme(style='darkgrid')"
   ]
  },
  {
   "cell_type": "markdown",
   "id": "e92b5223",
   "metadata": {},
   "source": [
    "## Connecting to MongoDB"
   ]
  },
  {
   "cell_type": "code",
   "execution_count": 42,
   "id": "d63dc7e7",
   "metadata": {},
   "outputs": [
    {
     "name": "stdout",
     "output_type": "stream",
     "text": [
      "CPU times: user 343 ms, sys: 58.6 ms, total: 402 ms\n",
      "Wall time: 13min 53s\n"
     ]
    }
   ],
   "source": [
    "%%time\n",
    "\n",
    "b = dask_mongo.read_mongo(\n",
    "    database='ed23db',\n",
    "    collection='users',\n",
    "    chunksize=200_000,\n",
    "    connection_kwargs={\n",
    "        'host': 'localhost',\n",
    "        'port': 27017\n",
    "    }\n",
    ")"
   ]
  },
  {
   "cell_type": "code",
   "execution_count": 43,
   "id": "bb1a70c8",
   "metadata": {},
   "outputs": [],
   "source": [
    "df = b.to_dataframe()"
   ]
  },
  {
   "cell_type": "code",
   "execution_count": 6,
   "id": "775e678c",
   "metadata": {},
   "outputs": [
    {
     "data": {
      "text/plain": [
       "Index(['_id', 'userid', 'username', 'location', 'following', 'followers',\n",
       "       'totaltweets', 'usercreatedts'],\n",
       "      dtype='object')"
      ]
     },
     "execution_count": 6,
     "metadata": {},
     "output_type": "execute_result"
    }
   ],
   "source": [
    "df.columns"
   ]
  },
  {
   "cell_type": "code",
   "execution_count": 7,
   "id": "49a618f5",
   "metadata": {},
   "outputs": [
    {
     "data": {
      "text/plain": [
       "_id              object\n",
       "userid           object\n",
       "username         object\n",
       "location         object\n",
       "following        object\n",
       "followers        object\n",
       "totaltweets      object\n",
       "usercreatedts    object\n",
       "dtype: object"
      ]
     },
     "execution_count": 7,
     "metadata": {},
     "output_type": "execute_result"
    }
   ],
   "source": [
    "df.dtypes"
   ]
  },
  {
   "cell_type": "code",
   "execution_count": 10,
   "id": "080f75bd",
   "metadata": {},
   "outputs": [
    {
     "name": "stdout",
     "output_type": "stream",
     "text": [
      "ERROR! Session/line number was not unique in database. History logging moved to new session 7\n"
     ]
    },
    {
     "data": {
      "text/html": [
       "<div>\n",
       "<style scoped>\n",
       "    .dataframe tbody tr th:only-of-type {\n",
       "        vertical-align: middle;\n",
       "    }\n",
       "\n",
       "    .dataframe tbody tr th {\n",
       "        vertical-align: top;\n",
       "    }\n",
       "\n",
       "    .dataframe thead th {\n",
       "        text-align: right;\n",
       "    }\n",
       "</style>\n",
       "<table border=\"1\" class=\"dataframe\">\n",
       "  <thead>\n",
       "    <tr style=\"text-align: right;\">\n",
       "      <th></th>\n",
       "      <th>_id</th>\n",
       "      <th>userid</th>\n",
       "      <th>username</th>\n",
       "      <th>location</th>\n",
       "      <th>following</th>\n",
       "      <th>followers</th>\n",
       "      <th>totaltweets</th>\n",
       "      <th>usercreatedts</th>\n",
       "    </tr>\n",
       "  </thead>\n",
       "  <tbody>\n",
       "    <tr>\n",
       "      <th>0</th>\n",
       "      <td>642abd59e4c8d692d061b241</td>\n",
       "      <td>1237027988287471618</td>\n",
       "      <td>pbi_es</td>\n",
       "      <td>Palestina</td>\n",
       "      <td>86</td>\n",
       "      <td>6855</td>\n",
       "      <td>6401</td>\n",
       "      <td>2020-03-09 14:50:40</td>\n",
       "    </tr>\n",
       "    <tr>\n",
       "      <th>1</th>\n",
       "      <td>642abd59e4c8d692d061b243</td>\n",
       "      <td>1407899290790473732</td>\n",
       "      <td>SectionChine</td>\n",
       "      <td></td>\n",
       "      <td>1718</td>\n",
       "      <td>1668</td>\n",
       "      <td>335</td>\n",
       "      <td>2021-06-24 06:06:32</td>\n",
       "    </tr>\n",
       "    <tr>\n",
       "      <th>2</th>\n",
       "      <td>642abd59e4c8d692d061b245</td>\n",
       "      <td>6509832</td>\n",
       "      <td>CNNnews18</td>\n",
       "      <td>India</td>\n",
       "      <td>399</td>\n",
       "      <td>4730654</td>\n",
       "      <td>997125</td>\n",
       "      <td>2007-06-01 20:31:01</td>\n",
       "    </tr>\n",
       "    <tr>\n",
       "      <th>3</th>\n",
       "      <td>642abd59e4c8d692d061b247</td>\n",
       "      <td>1570222426570608641</td>\n",
       "      <td>AmazingMeta</td>\n",
       "      <td>Los Angeles</td>\n",
       "      <td>86</td>\n",
       "      <td>26</td>\n",
       "      <td>276</td>\n",
       "      <td>2022-09-15 01:26:48</td>\n",
       "    </tr>\n",
       "    <tr>\n",
       "      <th>4</th>\n",
       "      <td>642abd59e4c8d692d061b249</td>\n",
       "      <td>20918680</td>\n",
       "      <td>CallMeAdamNYC</td>\n",
       "      <td>New York, NY</td>\n",
       "      <td>2228</td>\n",
       "      <td>2479</td>\n",
       "      <td>13155</td>\n",
       "      <td>2009-02-15 16:24:01</td>\n",
       "    </tr>\n",
       "    <tr>\n",
       "      <th>5</th>\n",
       "      <td>642abd59e4c8d692d061b24b</td>\n",
       "      <td>216893584</td>\n",
       "      <td>lavisionatl</td>\n",
       "      <td>Atlanta Georgia</td>\n",
       "      <td>942</td>\n",
       "      <td>3124</td>\n",
       "      <td>52076</td>\n",
       "      <td>2010-11-18 00:38:14</td>\n",
       "    </tr>\n",
       "    <tr>\n",
       "      <th>6</th>\n",
       "      <td>642abd59e4c8d692d061b24d</td>\n",
       "      <td>62089976</td>\n",
       "      <td>yunec</td>\n",
       "      <td>Kraków, Polska</td>\n",
       "      <td>2582</td>\n",
       "      <td>6560</td>\n",
       "      <td>132814</td>\n",
       "      <td>2009-08-01 18:35:04</td>\n",
       "    </tr>\n",
       "    <tr>\n",
       "      <th>7</th>\n",
       "      <td>642abd59e4c8d692d061b24f</td>\n",
       "      <td>209520717</td>\n",
       "      <td>olivanoticias</td>\n",
       "      <td>México</td>\n",
       "      <td>381</td>\n",
       "      <td>25068</td>\n",
       "      <td>249266</td>\n",
       "      <td>2010-10-29 10:39:49</td>\n",
       "    </tr>\n",
       "    <tr>\n",
       "      <th>8</th>\n",
       "      <td>642abd59e4c8d692d061b251</td>\n",
       "      <td>1573729011364241409</td>\n",
       "      <td>funny0animals</td>\n",
       "      <td></td>\n",
       "      <td>1</td>\n",
       "      <td>17</td>\n",
       "      <td>307</td>\n",
       "      <td>2022-09-24 17:40:19</td>\n",
       "    </tr>\n",
       "    <tr>\n",
       "      <th>9</th>\n",
       "      <td>642abd59e4c8d692d061b253</td>\n",
       "      <td>916681683134447617</td>\n",
       "      <td>MilaPlayporn</td>\n",
       "      <td></td>\n",
       "      <td>19</td>\n",
       "      <td>8917</td>\n",
       "      <td>51528</td>\n",
       "      <td>2017-10-07 15:08:39</td>\n",
       "    </tr>\n",
       "    <tr>\n",
       "      <th>10</th>\n",
       "      <td>642abd59e4c8d692d061b255</td>\n",
       "      <td>859964369932767232</td>\n",
       "      <td>MarioBekes</td>\n",
       "      <td>Sydney, New South Wales</td>\n",
       "      <td>4997</td>\n",
       "      <td>1451</td>\n",
       "      <td>2967</td>\n",
       "      <td>2017-05-04 02:54:17</td>\n",
       "    </tr>\n",
       "    <tr>\n",
       "      <th>11</th>\n",
       "      <td>642abd59e4c8d692d061b257</td>\n",
       "      <td>1499763123603050497</td>\n",
       "      <td>FuckPutinBot</td>\n",
       "      <td></td>\n",
       "      <td>14</td>\n",
       "      <td>243</td>\n",
       "      <td>305460</td>\n",
       "      <td>2022-03-04 15:06:25</td>\n",
       "    </tr>\n",
       "    <tr>\n",
       "      <th>12</th>\n",
       "      <td>642abd59e4c8d692d061b259</td>\n",
       "      <td>88537980</td>\n",
       "      <td>Elpoliticonews</td>\n",
       "      <td></td>\n",
       "      <td>1916</td>\n",
       "      <td>218265</td>\n",
       "      <td>1505803</td>\n",
       "      <td>2009-11-08 23:26:19</td>\n",
       "    </tr>\n",
       "    <tr>\n",
       "      <th>13</th>\n",
       "      <td>642abd59e4c8d692d061b25b</td>\n",
       "      <td>321392069</td>\n",
       "      <td>trendingmk</td>\n",
       "      <td>Macedonia</td>\n",
       "      <td>2746</td>\n",
       "      <td>11907</td>\n",
       "      <td>42504</td>\n",
       "      <td>2011-06-21 14:09:07</td>\n",
       "    </tr>\n",
       "    <tr>\n",
       "      <th>14</th>\n",
       "      <td>642abd59e4c8d692d061b25d</td>\n",
       "      <td>1579614019765223424</td>\n",
       "      <td>KatKai19</td>\n",
       "      <td>mexico?</td>\n",
       "      <td>1</td>\n",
       "      <td>1</td>\n",
       "      <td>2</td>\n",
       "      <td>2022-10-10 23:25:14</td>\n",
       "    </tr>\n",
       "    <tr>\n",
       "      <th>15</th>\n",
       "      <td>642abd59e4c8d692d061b25f</td>\n",
       "      <td>567652472</td>\n",
       "      <td>TeLoCuentoNews</td>\n",
       "      <td>Latinoamerica</td>\n",
       "      <td>10</td>\n",
       "      <td>83216</td>\n",
       "      <td>291583</td>\n",
       "      <td>2012-04-30 23:28:24</td>\n",
       "    </tr>\n",
       "    <tr>\n",
       "      <th>16</th>\n",
       "      <td>642abd59e4c8d692d061b261</td>\n",
       "      <td>1438428516517875713</td>\n",
       "      <td>UnderaWingCaddo</td>\n",
       "      <td>Crackerbarrell, TN.</td>\n",
       "      <td>4</td>\n",
       "      <td>47</td>\n",
       "      <td>5174</td>\n",
       "      <td>2021-09-16 09:04:54</td>\n",
       "    </tr>\n",
       "    <tr>\n",
       "      <th>17</th>\n",
       "      <td>642abd59e4c8d692d061b263</td>\n",
       "      <td>1192530074</td>\n",
       "      <td>awwikanadi</td>\n",
       "      <td>Where do you live?</td>\n",
       "      <td>1009</td>\n",
       "      <td>1205</td>\n",
       "      <td>7865</td>\n",
       "      <td>2013-02-18 08:55:02</td>\n",
       "    </tr>\n",
       "    <tr>\n",
       "      <th>18</th>\n",
       "      <td>642abd59e4c8d692d061b265</td>\n",
       "      <td>1452636766578429960</td>\n",
       "      <td>desi_sattayar</td>\n",
       "      <td></td>\n",
       "      <td>25</td>\n",
       "      <td>8</td>\n",
       "      <td>160</td>\n",
       "      <td>2021-10-25 14:03:20</td>\n",
       "    </tr>\n",
       "    <tr>\n",
       "      <th>19</th>\n",
       "      <td>642abd59e4c8d692d061b267</td>\n",
       "      <td>760052005</td>\n",
       "      <td>marue81</td>\n",
       "      <td>Tampa</td>\n",
       "      <td>572</td>\n",
       "      <td>327</td>\n",
       "      <td>113142</td>\n",
       "      <td>2012-08-15 19:55:10</td>\n",
       "    </tr>\n",
       "  </tbody>\n",
       "</table>\n",
       "</div>"
      ],
      "text/plain": [
       "                         _id               userid         username   \n",
       "0   642abd59e4c8d692d061b241  1237027988287471618           pbi_es  \\\n",
       "1   642abd59e4c8d692d061b243  1407899290790473732     SectionChine   \n",
       "2   642abd59e4c8d692d061b245              6509832        CNNnews18   \n",
       "3   642abd59e4c8d692d061b247  1570222426570608641      AmazingMeta   \n",
       "4   642abd59e4c8d692d061b249             20918680    CallMeAdamNYC   \n",
       "5   642abd59e4c8d692d061b24b            216893584      lavisionatl   \n",
       "6   642abd59e4c8d692d061b24d             62089976            yunec   \n",
       "7   642abd59e4c8d692d061b24f            209520717    olivanoticias   \n",
       "8   642abd59e4c8d692d061b251  1573729011364241409    funny0animals   \n",
       "9   642abd59e4c8d692d061b253   916681683134447617     MilaPlayporn   \n",
       "10  642abd59e4c8d692d061b255   859964369932767232       MarioBekes   \n",
       "11  642abd59e4c8d692d061b257  1499763123603050497     FuckPutinBot   \n",
       "12  642abd59e4c8d692d061b259             88537980   Elpoliticonews   \n",
       "13  642abd59e4c8d692d061b25b            321392069       trendingmk   \n",
       "14  642abd59e4c8d692d061b25d  1579614019765223424         KatKai19   \n",
       "15  642abd59e4c8d692d061b25f            567652472   TeLoCuentoNews   \n",
       "16  642abd59e4c8d692d061b261  1438428516517875713  UnderaWingCaddo   \n",
       "17  642abd59e4c8d692d061b263           1192530074       awwikanadi   \n",
       "18  642abd59e4c8d692d061b265  1452636766578429960    desi_sattayar   \n",
       "19  642abd59e4c8d692d061b267            760052005          marue81   \n",
       "\n",
       "                   location following followers totaltweets   \n",
       "0                 Palestina        86      6855        6401  \\\n",
       "1                                1718      1668         335   \n",
       "2                     India       399   4730654      997125   \n",
       "3               Los Angeles        86        26         276   \n",
       "4              New York, NY      2228      2479       13155   \n",
       "5           Atlanta Georgia       942      3124       52076   \n",
       "6            Kraków, Polska      2582      6560      132814   \n",
       "7                    México       381     25068      249266   \n",
       "8                                   1        17         307   \n",
       "9                                  19      8917       51528   \n",
       "10  Sydney, New South Wales      4997      1451        2967   \n",
       "11                                 14       243      305460   \n",
       "12                               1916    218265     1505803   \n",
       "13                Macedonia      2746     11907       42504   \n",
       "14                  mexico?         1         1           2   \n",
       "15            Latinoamerica        10     83216      291583   \n",
       "16      Crackerbarrell, TN.         4        47        5174   \n",
       "17       Where do you live?      1009      1205        7865   \n",
       "18                                 25         8         160   \n",
       "19                    Tampa       572       327      113142   \n",
       "\n",
       "          usercreatedts  \n",
       "0   2020-03-09 14:50:40  \n",
       "1   2021-06-24 06:06:32  \n",
       "2   2007-06-01 20:31:01  \n",
       "3   2022-09-15 01:26:48  \n",
       "4   2009-02-15 16:24:01  \n",
       "5   2010-11-18 00:38:14  \n",
       "6   2009-08-01 18:35:04  \n",
       "7   2010-10-29 10:39:49  \n",
       "8   2022-09-24 17:40:19  \n",
       "9   2017-10-07 15:08:39  \n",
       "10  2017-05-04 02:54:17  \n",
       "11  2022-03-04 15:06:25  \n",
       "12  2009-11-08 23:26:19  \n",
       "13  2011-06-21 14:09:07  \n",
       "14  2022-10-10 23:25:14  \n",
       "15  2012-04-30 23:28:24  \n",
       "16  2021-09-16 09:04:54  \n",
       "17  2013-02-18 08:55:02  \n",
       "18  2021-10-25 14:03:20  \n",
       "19  2012-08-15 19:55:10  "
      ]
     },
     "execution_count": 10,
     "metadata": {},
     "output_type": "execute_result"
    }
   ],
   "source": [
    "df.head(20)"
   ]
  },
  {
   "cell_type": "markdown",
   "id": "3c46e544",
   "metadata": {},
   "source": [
    "## Number of unique users"
   ]
  },
  {
   "cell_type": "code",
   "execution_count": 11,
   "id": "fe83541a",
   "metadata": {},
   "outputs": [
    {
     "name": "stdout",
     "output_type": "stream",
     "text": [
      "CPU times: user 14min 15s, sys: 23.3 s, total: 14min 38s\n",
      "Wall time: 14min 1s\n"
     ]
    },
    {
     "data": {
      "text/plain": [
       "(132262426, 8)"
      ]
     },
     "execution_count": 11,
     "metadata": {},
     "output_type": "execute_result"
    }
   ],
   "source": [
    "%%time\n",
    "\n",
    "df.shape[0].compute(), df.shape[1]  # all entries"
   ]
  },
  {
   "cell_type": "code",
   "execution_count": 12,
   "id": "70803091",
   "metadata": {},
   "outputs": [
    {
     "name": "stdout",
     "output_type": "stream",
     "text": [
      "CPU times: user 17min 37s, sys: 27 s, total: 18min 4s\n",
      "Wall time: 16min 28s\n"
     ]
    },
    {
     "data": {
      "text/plain": [
       "6538298"
      ]
     },
     "execution_count": 12,
     "metadata": {},
     "output_type": "execute_result"
    }
   ],
   "source": [
    "%%time\n",
    "\n",
    "df['userid'].unique().shape[0].compute()  # unique user ids"
   ]
  },
  {
   "cell_type": "markdown",
   "id": "fe023176",
   "metadata": {},
   "source": [
    "## Distribution by followers"
   ]
  },
  {
   "cell_type": "code",
   "execution_count": 38,
   "id": "76539fdc",
   "metadata": {},
   "outputs": [],
   "source": [
    "exdf = pd.DataFrame({'Animal': ['Falcon', 'Falcon',\n",
    "                              'Parrot', 'Parrot'],\n",
    "                   'Max Speed': [380., 370., 24., 26.]})"
   ]
  },
  {
   "cell_type": "code",
   "execution_count": 41,
   "id": "fc6ddee0",
   "metadata": {},
   "outputs": [
    {
     "data": {
      "text/plain": [
       "Max Speed\n",
       "380.0    1\n",
       "26.0     1\n",
       "Name: count, dtype: int64"
      ]
     },
     "execution_count": 41,
     "metadata": {},
     "output_type": "execute_result"
    }
   ],
   "source": [
    "exdf.groupby(\"Animal\", group_keys=True)['Max Speed'].max().value_counts()"
   ]
  },
  {
   "cell_type": "code",
   "execution_count": null,
   "id": "e42640f7",
   "metadata": {
    "collapsed": false
   },
   "outputs": [],
   "source": []
  },
  {
   "cell_type": "code",
   "execution_count": null,
   "id": "4c729d93",
   "metadata": {
    "scrolled": true
   },
   "outputs": [],
   "source": [
    "%%time\n",
    "\n",
    "# followers_distribution = df['followers'].value_counts().compute()  # FIXME we have duplicates of users\n",
    "followers_distribution = df \\\n",
    "    .groupby('userid', group_keys=True, sort=False)['followers'] \\\n",
    "    .max() \\\n",
    "    .value_counts() \\\n",
    "    .compute()"
   ]
  },
  {
   "cell_type": "code",
   "execution_count": 16,
   "id": "994f0b7e",
   "metadata": {},
   "outputs": [
    {
     "data": {
      "text/plain": [
       "followers\n",
       "0          2297034\n",
       "1          1473672\n",
       "2          1201882\n",
       "3          1041046\n",
       "4           932882\n",
       "            ...   \n",
       "1909945          2\n",
       "406490           2\n",
       "406493           2\n",
       "4064974          2\n",
       "3071384          2\n",
       "Name: count, Length: 516588, dtype: int64"
      ]
     },
     "execution_count": 16,
     "metadata": {},
     "output_type": "execute_result"
    }
   ],
   "source": [
    "followers_distribution"
   ]
  },
  {
   "cell_type": "code",
   "execution_count": 17,
   "id": "5d2e01cb",
   "metadata": {},
   "outputs": [],
   "source": [
    "followers_distribution_idxs = np.argsort(followers_distribution.index.values)\n",
    "x = followers_distribution.index.values[followers_distribution_idxs]\n",
    "y = followers_distribution.values[followers_distribution_idxs]"
   ]
  },
  {
   "cell_type": "code",
   "execution_count": 18,
   "id": "7f7fec80",
   "metadata": {},
   "outputs": [
    {
     "name": "stderr",
     "output_type": "stream",
     "text": [
      "\n",
      "KeyboardInterrupt\n",
      "\n"
     ]
    }
   ],
   "source": [
    "fig, ax = plt.subplots(figsize=(16, 12))\n",
    "ax.plot(x, y)\n",
    "\n",
    "ax.set_title('Distribution of Twitter users by followers count')\n",
    "\n",
    "# ax.set_xticks(np.arange(0, 105, 5), minor=False)\n",
    "# ax.set_yticks(np.arange(0, 45000, 2500), minor=False)\n",
    "\n",
    "# ax.set_xlim(-3)\n",
    "# ax.set_ylim(-1500)\n",
    "\n",
    "ax.set_xlabel('followers')\n",
    "ax.set_ylabel('twitter users having this many users')\n",
    "\n",
    "plt.show()"
   ]
  },
  {
   "cell_type": "markdown",
   "id": "5ab1afeb",
   "metadata": {},
   "source": [
    "## Distribution by tweets"
   ]
  },
  {
   "cell_type": "code",
   "execution_count": 14,
   "id": "1b99aceb",
   "metadata": {},
   "outputs": [
    {
     "name": "stdout",
     "output_type": "stream",
     "text": [
      "CPU times: user 17min 36s, sys: 26 s, total: 18min 2s\n",
      "Wall time: 17min 1s\n"
     ]
    }
   ],
   "source": [
    "%%time\n",
    "\n",
    "# tweet_count_distribution = df['totaltweets'].value_counts().compute()  # FIXME we have duplicates of users\n",
    "tweet_count_distribution = df \\\n",
    "    .groupby('userid', group_keys=True, sort=False)['totaltweets'] \\\n",
    "    .max() \\\n",
    "    .value_counts() \\\n",
    "    .compute()"
   ]
  },
  {
   "cell_type": "code",
   "execution_count": null,
   "id": "7b8f3cf8",
   "metadata": {},
   "outputs": [],
   "source": []
  },
  {
   "cell_type": "markdown",
   "id": "bce6f42c",
   "metadata": {},
   "source": [
    "## Distribution by location\n",
    "\n",
    "todo: how do we normalize location names?"
   ]
  },
  {
   "cell_type": "code",
   "execution_count": null,
   "id": "aefa3cd8",
   "metadata": {},
   "outputs": [],
   "source": []
  },
  {
   "cell_type": "code",
   "execution_count": null,
   "id": "7f39af9f",
   "metadata": {},
   "outputs": [],
   "source": []
  }
 ],
 "metadata": {
  "kernelspec": {
   "display_name": "Python 3 (ipykernel)",
   "language": "python",
   "name": "python3"
  },
  "language_info": {
   "codemirror_mode": {
    "name": "ipython",
    "version": 3
   },
   "file_extension": ".py",
   "mimetype": "text/x-python",
   "name": "python",
   "nbconvert_exporter": "python",
   "pygments_lexer": "ipython3",
   "version": "3.10.6"
  }
 },
 "nbformat": 4,
 "nbformat_minor": 5
}

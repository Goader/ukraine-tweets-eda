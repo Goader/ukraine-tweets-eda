{
 "cells": [
  {
   "cell_type": "code",
   "execution_count": 1,
   "metadata": {
    "ExecuteTime": {
     "end_time": "2023-05-02T19:59:19.363568Z",
     "start_time": "2023-05-02T19:59:17.225872Z"
    },
    "collapsed": true
   },
   "outputs": [],
   "source": [
    "import dask.dataframe as dd\n",
    "from dask.diagnostics import ProgressBar, Profiler\n",
    "from datetime import datetime\n",
    "import matplotlib.pyplot as plt"
   ]
  },
  {
   "cell_type": "code",
   "execution_count": 2,
   "metadata": {
    "ExecuteTime": {
     "end_time": "2023-05-02T19:59:26.984363Z",
     "start_time": "2023-05-02T19:59:24.571074Z"
    },
    "collapsed": false
   },
   "outputs": [
    {
     "data": {
      "text/html": [
       "<div>\n",
       "    <div style=\"width: 24px; height: 24px; background-color: #e1e1e1; border: 3px solid #9D9D9D; border-radius: 5px; position: absolute;\"> </div>\n",
       "    <div style=\"margin-left: 48px;\">\n",
       "        <h3 style=\"margin-bottom: 0px;\">Client</h3>\n",
       "        <p style=\"color: #9D9D9D; margin-bottom: 0px;\">Client-13793665-e913-11ed-bcfb-5933647c9932</p>\n",
       "        <table style=\"width: 100%; text-align: left;\">\n",
       "\n",
       "        <tr>\n",
       "        \n",
       "            <td style=\"text-align: left;\"><strong>Connection method:</strong> Cluster object</td>\n",
       "            <td style=\"text-align: left;\"><strong>Cluster type:</strong> distributed.LocalCluster</td>\n",
       "        \n",
       "        </tr>\n",
       "\n",
       "        \n",
       "            <tr>\n",
       "                <td style=\"text-align: left;\">\n",
       "                    <strong>Dashboard: </strong> <a href=\"http://127.0.0.1:8787/status\" target=\"_blank\">http://127.0.0.1:8787/status</a>\n",
       "                </td>\n",
       "                <td style=\"text-align: left;\"></td>\n",
       "            </tr>\n",
       "        \n",
       "\n",
       "        </table>\n",
       "\n",
       "        \n",
       "\n",
       "        \n",
       "            <details>\n",
       "            <summary style=\"margin-bottom: 20px;\"><h3 style=\"display: inline;\">Cluster Info</h3></summary>\n",
       "            <div class=\"jp-RenderedHTMLCommon jp-RenderedHTML jp-mod-trusted jp-OutputArea-output\">\n",
       "    <div style=\"width: 24px; height: 24px; background-color: #e1e1e1; border: 3px solid #9D9D9D; border-radius: 5px; position: absolute;\">\n",
       "    </div>\n",
       "    <div style=\"margin-left: 48px;\">\n",
       "        <h3 style=\"margin-bottom: 0px; margin-top: 0px;\">LocalCluster</h3>\n",
       "        <p style=\"color: #9D9D9D; margin-bottom: 0px;\">75d2149d</p>\n",
       "        <table style=\"width: 100%; text-align: left;\">\n",
       "            <tr>\n",
       "                <td style=\"text-align: left;\">\n",
       "                    <strong>Dashboard:</strong> <a href=\"http://127.0.0.1:8787/status\" target=\"_blank\">http://127.0.0.1:8787/status</a>\n",
       "                </td>\n",
       "                <td style=\"text-align: left;\">\n",
       "                    <strong>Workers:</strong> 4\n",
       "                </td>\n",
       "            </tr>\n",
       "            <tr>\n",
       "                <td style=\"text-align: left;\">\n",
       "                    <strong>Total threads:</strong> 8\n",
       "                </td>\n",
       "                <td style=\"text-align: left;\">\n",
       "                    <strong>Total memory:</strong> 31.00 GiB\n",
       "                </td>\n",
       "            </tr>\n",
       "            \n",
       "            <tr>\n",
       "    <td style=\"text-align: left;\"><strong>Status:</strong> running</td>\n",
       "    <td style=\"text-align: left;\"><strong>Using processes:</strong> True</td>\n",
       "</tr>\n",
       "\n",
       "            \n",
       "        </table>\n",
       "\n",
       "        <details>\n",
       "            <summary style=\"margin-bottom: 20px;\">\n",
       "                <h3 style=\"display: inline;\">Scheduler Info</h3>\n",
       "            </summary>\n",
       "\n",
       "            <div style=\"\">\n",
       "    <div>\n",
       "        <div style=\"width: 24px; height: 24px; background-color: #FFF7E5; border: 3px solid #FF6132; border-radius: 5px; position: absolute;\"> </div>\n",
       "        <div style=\"margin-left: 48px;\">\n",
       "            <h3 style=\"margin-bottom: 0px;\">Scheduler</h3>\n",
       "            <p style=\"color: #9D9D9D; margin-bottom: 0px;\">Scheduler-09a07da6-e4e2-4756-bfb4-9a207b7aa22f</p>\n",
       "            <table style=\"width: 100%; text-align: left;\">\n",
       "                <tr>\n",
       "                    <td style=\"text-align: left;\">\n",
       "                        <strong>Comm:</strong> tcp://127.0.0.1:41387\n",
       "                    </td>\n",
       "                    <td style=\"text-align: left;\">\n",
       "                        <strong>Workers:</strong> 4\n",
       "                    </td>\n",
       "                </tr>\n",
       "                <tr>\n",
       "                    <td style=\"text-align: left;\">\n",
       "                        <strong>Dashboard:</strong> <a href=\"http://127.0.0.1:8787/status\" target=\"_blank\">http://127.0.0.1:8787/status</a>\n",
       "                    </td>\n",
       "                    <td style=\"text-align: left;\">\n",
       "                        <strong>Total threads:</strong> 8\n",
       "                    </td>\n",
       "                </tr>\n",
       "                <tr>\n",
       "                    <td style=\"text-align: left;\">\n",
       "                        <strong>Started:</strong> Just now\n",
       "                    </td>\n",
       "                    <td style=\"text-align: left;\">\n",
       "                        <strong>Total memory:</strong> 31.00 GiB\n",
       "                    </td>\n",
       "                </tr>\n",
       "            </table>\n",
       "        </div>\n",
       "    </div>\n",
       "\n",
       "    <details style=\"margin-left: 48px;\">\n",
       "        <summary style=\"margin-bottom: 20px;\">\n",
       "            <h3 style=\"display: inline;\">Workers</h3>\n",
       "        </summary>\n",
       "\n",
       "        \n",
       "        <div style=\"margin-bottom: 20px;\">\n",
       "            <div style=\"width: 24px; height: 24px; background-color: #DBF5FF; border: 3px solid #4CC9FF; border-radius: 5px; position: absolute;\"> </div>\n",
       "            <div style=\"margin-left: 48px;\">\n",
       "            <details>\n",
       "                <summary>\n",
       "                    <h4 style=\"margin-bottom: 0px; display: inline;\">Worker: 0</h4>\n",
       "                </summary>\n",
       "                <table style=\"width: 100%; text-align: left;\">\n",
       "                    <tr>\n",
       "                        <td style=\"text-align: left;\">\n",
       "                            <strong>Comm: </strong> tcp://127.0.0.1:44907\n",
       "                        </td>\n",
       "                        <td style=\"text-align: left;\">\n",
       "                            <strong>Total threads: </strong> 2\n",
       "                        </td>\n",
       "                    </tr>\n",
       "                    <tr>\n",
       "                        <td style=\"text-align: left;\">\n",
       "                            <strong>Dashboard: </strong> <a href=\"http://127.0.0.1:44095/status\" target=\"_blank\">http://127.0.0.1:44095/status</a>\n",
       "                        </td>\n",
       "                        <td style=\"text-align: left;\">\n",
       "                            <strong>Memory: </strong> 7.75 GiB\n",
       "                        </td>\n",
       "                    </tr>\n",
       "                    <tr>\n",
       "                        <td style=\"text-align: left;\">\n",
       "                            <strong>Nanny: </strong> tcp://127.0.0.1:46147\n",
       "                        </td>\n",
       "                        <td style=\"text-align: left;\"></td>\n",
       "                    </tr>\n",
       "                    <tr>\n",
       "                        <td colspan=\"2\" style=\"text-align: left;\">\n",
       "                            <strong>Local directory: </strong> /tmp/dask-worker-space/worker-0ivpeupn\n",
       "                        </td>\n",
       "                    </tr>\n",
       "\n",
       "                    \n",
       "\n",
       "                    \n",
       "\n",
       "                </table>\n",
       "            </details>\n",
       "            </div>\n",
       "        </div>\n",
       "        \n",
       "        <div style=\"margin-bottom: 20px;\">\n",
       "            <div style=\"width: 24px; height: 24px; background-color: #DBF5FF; border: 3px solid #4CC9FF; border-radius: 5px; position: absolute;\"> </div>\n",
       "            <div style=\"margin-left: 48px;\">\n",
       "            <details>\n",
       "                <summary>\n",
       "                    <h4 style=\"margin-bottom: 0px; display: inline;\">Worker: 1</h4>\n",
       "                </summary>\n",
       "                <table style=\"width: 100%; text-align: left;\">\n",
       "                    <tr>\n",
       "                        <td style=\"text-align: left;\">\n",
       "                            <strong>Comm: </strong> tcp://127.0.0.1:37637\n",
       "                        </td>\n",
       "                        <td style=\"text-align: left;\">\n",
       "                            <strong>Total threads: </strong> 2\n",
       "                        </td>\n",
       "                    </tr>\n",
       "                    <tr>\n",
       "                        <td style=\"text-align: left;\">\n",
       "                            <strong>Dashboard: </strong> <a href=\"http://127.0.0.1:38803/status\" target=\"_blank\">http://127.0.0.1:38803/status</a>\n",
       "                        </td>\n",
       "                        <td style=\"text-align: left;\">\n",
       "                            <strong>Memory: </strong> 7.75 GiB\n",
       "                        </td>\n",
       "                    </tr>\n",
       "                    <tr>\n",
       "                        <td style=\"text-align: left;\">\n",
       "                            <strong>Nanny: </strong> tcp://127.0.0.1:38565\n",
       "                        </td>\n",
       "                        <td style=\"text-align: left;\"></td>\n",
       "                    </tr>\n",
       "                    <tr>\n",
       "                        <td colspan=\"2\" style=\"text-align: left;\">\n",
       "                            <strong>Local directory: </strong> /tmp/dask-worker-space/worker-wsoez8v7\n",
       "                        </td>\n",
       "                    </tr>\n",
       "\n",
       "                    \n",
       "\n",
       "                    \n",
       "\n",
       "                </table>\n",
       "            </details>\n",
       "            </div>\n",
       "        </div>\n",
       "        \n",
       "        <div style=\"margin-bottom: 20px;\">\n",
       "            <div style=\"width: 24px; height: 24px; background-color: #DBF5FF; border: 3px solid #4CC9FF; border-radius: 5px; position: absolute;\"> </div>\n",
       "            <div style=\"margin-left: 48px;\">\n",
       "            <details>\n",
       "                <summary>\n",
       "                    <h4 style=\"margin-bottom: 0px; display: inline;\">Worker: 2</h4>\n",
       "                </summary>\n",
       "                <table style=\"width: 100%; text-align: left;\">\n",
       "                    <tr>\n",
       "                        <td style=\"text-align: left;\">\n",
       "                            <strong>Comm: </strong> tcp://127.0.0.1:37727\n",
       "                        </td>\n",
       "                        <td style=\"text-align: left;\">\n",
       "                            <strong>Total threads: </strong> 2\n",
       "                        </td>\n",
       "                    </tr>\n",
       "                    <tr>\n",
       "                        <td style=\"text-align: left;\">\n",
       "                            <strong>Dashboard: </strong> <a href=\"http://127.0.0.1:44723/status\" target=\"_blank\">http://127.0.0.1:44723/status</a>\n",
       "                        </td>\n",
       "                        <td style=\"text-align: left;\">\n",
       "                            <strong>Memory: </strong> 7.75 GiB\n",
       "                        </td>\n",
       "                    </tr>\n",
       "                    <tr>\n",
       "                        <td style=\"text-align: left;\">\n",
       "                            <strong>Nanny: </strong> tcp://127.0.0.1:34061\n",
       "                        </td>\n",
       "                        <td style=\"text-align: left;\"></td>\n",
       "                    </tr>\n",
       "                    <tr>\n",
       "                        <td colspan=\"2\" style=\"text-align: left;\">\n",
       "                            <strong>Local directory: </strong> /tmp/dask-worker-space/worker-2v3sx4wm\n",
       "                        </td>\n",
       "                    </tr>\n",
       "\n",
       "                    \n",
       "\n",
       "                    \n",
       "\n",
       "                </table>\n",
       "            </details>\n",
       "            </div>\n",
       "        </div>\n",
       "        \n",
       "        <div style=\"margin-bottom: 20px;\">\n",
       "            <div style=\"width: 24px; height: 24px; background-color: #DBF5FF; border: 3px solid #4CC9FF; border-radius: 5px; position: absolute;\"> </div>\n",
       "            <div style=\"margin-left: 48px;\">\n",
       "            <details>\n",
       "                <summary>\n",
       "                    <h4 style=\"margin-bottom: 0px; display: inline;\">Worker: 3</h4>\n",
       "                </summary>\n",
       "                <table style=\"width: 100%; text-align: left;\">\n",
       "                    <tr>\n",
       "                        <td style=\"text-align: left;\">\n",
       "                            <strong>Comm: </strong> tcp://127.0.0.1:37477\n",
       "                        </td>\n",
       "                        <td style=\"text-align: left;\">\n",
       "                            <strong>Total threads: </strong> 2\n",
       "                        </td>\n",
       "                    </tr>\n",
       "                    <tr>\n",
       "                        <td style=\"text-align: left;\">\n",
       "                            <strong>Dashboard: </strong> <a href=\"http://127.0.0.1:32781/status\" target=\"_blank\">http://127.0.0.1:32781/status</a>\n",
       "                        </td>\n",
       "                        <td style=\"text-align: left;\">\n",
       "                            <strong>Memory: </strong> 7.75 GiB\n",
       "                        </td>\n",
       "                    </tr>\n",
       "                    <tr>\n",
       "                        <td style=\"text-align: left;\">\n",
       "                            <strong>Nanny: </strong> tcp://127.0.0.1:40757\n",
       "                        </td>\n",
       "                        <td style=\"text-align: left;\"></td>\n",
       "                    </tr>\n",
       "                    <tr>\n",
       "                        <td colspan=\"2\" style=\"text-align: left;\">\n",
       "                            <strong>Local directory: </strong> /tmp/dask-worker-space/worker-kw_lr5oj\n",
       "                        </td>\n",
       "                    </tr>\n",
       "\n",
       "                    \n",
       "\n",
       "                    \n",
       "\n",
       "                </table>\n",
       "            </details>\n",
       "            </div>\n",
       "        </div>\n",
       "        \n",
       "\n",
       "    </details>\n",
       "</div>\n",
       "\n",
       "        </details>\n",
       "    </div>\n",
       "</div>\n",
       "            </details>\n",
       "        \n",
       "\n",
       "    </div>\n",
       "</div>"
      ],
      "text/plain": [
       "<Client: 'tcp://127.0.0.1:41387' processes=4 threads=8, memory=31.00 GiB>"
      ]
     },
     "execution_count": 2,
     "metadata": {},
     "output_type": "execute_result"
    }
   ],
   "source": [
    "from dask.distributed import Client\n",
    "\n",
    "client = Client()\n",
    "client"
   ]
  },
  {
   "cell_type": "markdown",
   "metadata": {
    "collapsed": false
   },
   "source": [
    "### Here we define util functions used to preprocess data for the specific needs"
   ]
  },
  {
   "cell_type": "code",
   "execution_count": 3,
   "metadata": {
    "ExecuteTime": {
     "end_time": "2023-05-02T19:59:35.084705Z",
     "start_time": "2023-05-02T19:59:35.080688Z"
    },
    "collapsed": false
   },
   "outputs": [],
   "source": [
    "def filter_dataframe_by_datetime_bounds(data: dd.DataFrame, start_date: datetime, end_date: datetime) -> dd.DataFrame:\n",
    "\n",
    "    # Create a mask for filtering the DataFrame based on the datetime bounds\n",
    "    mask = (data['tweetcreatedts'] >= start_date) & (data['tweetcreatedts'] <= end_date)\n",
    "\n",
    "    return data.loc[mask]"
   ]
  },
  {
   "cell_type": "code",
   "execution_count": 20,
   "metadata": {
    "ExecuteTime": {
     "end_time": "2023-05-02T20:11:23.180768Z",
     "start_time": "2023-05-02T20:11:23.157762Z"
    },
    "collapsed": false
   },
   "outputs": [
    {
     "name": "stdout",
     "output_type": "stream",
     "text": [
      "CPU times: user 44.4 ms, sys: 15.6 ms, total: 59.9 ms\n",
      "Wall time: 44.2 ms\n"
     ]
    }
   ],
   "source": [
    "%%time\n",
    "dfp = dd.read_parquet('../parquet/tweets.parquet', engine='pyarrow')"
   ]
  },
  {
   "cell_type": "code",
   "execution_count": 5,
   "metadata": {
    "ExecuteTime": {
     "end_time": "2023-05-02T19:59:40.657260Z",
     "start_time": "2023-05-02T19:59:40.647251Z"
    },
    "collapsed": false
   },
   "outputs": [
    {
     "data": {
      "text/plain": [
       "662"
      ]
     },
     "execution_count": 5,
     "metadata": {},
     "output_type": "execute_result"
    }
   ],
   "source": [
    "dfp.npartitions"
   ]
  },
  {
   "cell_type": "code",
   "execution_count": 6,
   "metadata": {
    "ExecuteTime": {
     "end_time": "2023-05-02T19:59:44.921272Z",
     "start_time": "2023-05-02T19:59:43.366288Z"
    },
    "collapsed": false
   },
   "outputs": [
    {
     "data": {
      "text/html": [
       "<div>\n",
       "<style scoped>\n",
       "    .dataframe tbody tr th:only-of-type {\n",
       "        vertical-align: middle;\n",
       "    }\n",
       "\n",
       "    .dataframe tbody tr th {\n",
       "        vertical-align: top;\n",
       "    }\n",
       "\n",
       "    .dataframe thead th {\n",
       "        text-align: right;\n",
       "    }\n",
       "</style>\n",
       "<table border=\"1\" class=\"dataframe\">\n",
       "  <thead>\n",
       "    <tr style=\"text-align: right;\">\n",
       "      <th></th>\n",
       "      <th>userid</th>\n",
       "      <th>tweetid</th>\n",
       "      <th>tweetcreatedts</th>\n",
       "      <th>retweetcount</th>\n",
       "      <th>text</th>\n",
       "      <th>hashtags</th>\n",
       "      <th>language</th>\n",
       "      <th>coordinates</th>\n",
       "      <th>favorite_count</th>\n",
       "      <th>is_retweet</th>\n",
       "      <th>...</th>\n",
       "      <th>original_tweet_userid</th>\n",
       "      <th>original_tweet_username</th>\n",
       "      <th>in_reply_to_status_id</th>\n",
       "      <th>in_reply_to_user_id</th>\n",
       "      <th>in_reply_to_screen_name</th>\n",
       "      <th>is_quote_status</th>\n",
       "      <th>quoted_status_id</th>\n",
       "      <th>quoted_status_userid</th>\n",
       "      <th>quoted_status_username</th>\n",
       "      <th>extractedts</th>\n",
       "    </tr>\n",
       "  </thead>\n",
       "  <tbody>\n",
       "    <tr>\n",
       "      <th>0</th>\n",
       "      <td>1237027988287471618</td>\n",
       "      <td>1579622809680035841</td>\n",
       "      <td>2022-10-11</td>\n",
       "      <td>11</td>\n",
       "      <td>Después de profanar la Mezquita de Ibrahim en ...</td>\n",
       "      <td>[{'text': 'palestina', 'indices': [142, 152]},...</td>\n",
       "      <td>es</td>\n",
       "      <td></td>\n",
       "      <td>13</td>\n",
       "      <td>True</td>\n",
       "      <td>...</td>\n",
       "      <td>0</td>\n",
       "      <td></td>\n",
       "      <td>0</td>\n",
       "      <td>0</td>\n",
       "      <td></td>\n",
       "      <td>True</td>\n",
       "      <td>0</td>\n",
       "      <td>0</td>\n",
       "      <td></td>\n",
       "      <td>2022-10-11 09:57:02</td>\n",
       "    </tr>\n",
       "    <tr>\n",
       "      <th>1</th>\n",
       "      <td>1407899290790473732</td>\n",
       "      <td>1579622809847808000</td>\n",
       "      <td>2022-10-11</td>\n",
       "      <td>1</td>\n",
       "      <td>La voix de son maître 🇺🇸\\nAlors que l'#Ukraine...</td>\n",
       "      <td>[{'text': 'Ukraine', 'indices': [37, 45]}, {'t...</td>\n",
       "      <td>fr</td>\n",
       "      <td></td>\n",
       "      <td>0</td>\n",
       "      <td>True</td>\n",
       "      <td>...</td>\n",
       "      <td>0</td>\n",
       "      <td></td>\n",
       "      <td>0</td>\n",
       "      <td>0</td>\n",
       "      <td></td>\n",
       "      <td>True</td>\n",
       "      <td>0</td>\n",
       "      <td>0</td>\n",
       "      <td></td>\n",
       "      <td>2022-10-11 02:31:18</td>\n",
       "    </tr>\n",
       "    <tr>\n",
       "      <th>2</th>\n",
       "      <td>6509832</td>\n",
       "      <td>1579622810560786432</td>\n",
       "      <td>2022-10-11</td>\n",
       "      <td>1</td>\n",
       "      <td>#WarInUkraine | Putin Confirms Russia Attacked...</td>\n",
       "      <td>[{'text': 'WarInUkraine', 'indices': [0, 13]},...</td>\n",
       "      <td>en</td>\n",
       "      <td></td>\n",
       "      <td>5</td>\n",
       "      <td>True</td>\n",
       "      <td>...</td>\n",
       "      <td>0</td>\n",
       "      <td></td>\n",
       "      <td>0</td>\n",
       "      <td>0</td>\n",
       "      <td></td>\n",
       "      <td>True</td>\n",
       "      <td>0</td>\n",
       "      <td>0</td>\n",
       "      <td></td>\n",
       "      <td>2022-10-11 04:37:34</td>\n",
       "    </tr>\n",
       "    <tr>\n",
       "      <th>3</th>\n",
       "      <td>1570222426570608641</td>\n",
       "      <td>1579622810619723776</td>\n",
       "      <td>2022-10-11</td>\n",
       "      <td>1</td>\n",
       "      <td>We made a set of heart-shaped pinatas with the...</td>\n",
       "      <td>[{'text': 'WeStandWithUkraine', 'indices': [16...</td>\n",
       "      <td>en</td>\n",
       "      <td></td>\n",
       "      <td>4</td>\n",
       "      <td>True</td>\n",
       "      <td>...</td>\n",
       "      <td>0</td>\n",
       "      <td></td>\n",
       "      <td>0</td>\n",
       "      <td>0</td>\n",
       "      <td></td>\n",
       "      <td>True</td>\n",
       "      <td>0</td>\n",
       "      <td>0</td>\n",
       "      <td></td>\n",
       "      <td>2022-10-11 05:41:38</td>\n",
       "    </tr>\n",
       "    <tr>\n",
       "      <th>4</th>\n",
       "      <td>20918680</td>\n",
       "      <td>1579622810774749184</td>\n",
       "      <td>2022-10-11</td>\n",
       "      <td>0</td>\n",
       "      <td>Have you listened to @AmandaMcBroom1 &amp;amp; @Mi...</td>\n",
       "      <td>[{'text': 'GodofWar', 'indices': [80, 89]}, {'...</td>\n",
       "      <td>en</td>\n",
       "      <td></td>\n",
       "      <td>0</td>\n",
       "      <td>True</td>\n",
       "      <td>...</td>\n",
       "      <td>0</td>\n",
       "      <td></td>\n",
       "      <td>0</td>\n",
       "      <td>0</td>\n",
       "      <td></td>\n",
       "      <td>True</td>\n",
       "      <td>0</td>\n",
       "      <td>0</td>\n",
       "      <td></td>\n",
       "      <td>2022-10-11 02:31:18</td>\n",
       "    </tr>\n",
       "  </tbody>\n",
       "</table>\n",
       "<p>5 rows × 21 columns</p>\n",
       "</div>"
      ],
      "text/plain": [
       "                userid              tweetid tweetcreatedts  retweetcount   \n",
       "0  1237027988287471618  1579622809680035841     2022-10-11            11  \\\n",
       "1  1407899290790473732  1579622809847808000     2022-10-11             1   \n",
       "2              6509832  1579622810560786432     2022-10-11             1   \n",
       "3  1570222426570608641  1579622810619723776     2022-10-11             1   \n",
       "4             20918680  1579622810774749184     2022-10-11             0   \n",
       "\n",
       "                                                text   \n",
       "0  Después de profanar la Mezquita de Ibrahim en ...  \\\n",
       "1  La voix de son maître 🇺🇸\\nAlors que l'#Ukraine...   \n",
       "2  #WarInUkraine | Putin Confirms Russia Attacked...   \n",
       "3  We made a set of heart-shaped pinatas with the...   \n",
       "4  Have you listened to @AmandaMcBroom1 &amp; @Mi...   \n",
       "\n",
       "                                            hashtags language coordinates   \n",
       "0  [{'text': 'palestina', 'indices': [142, 152]},...       es              \\\n",
       "1  [{'text': 'Ukraine', 'indices': [37, 45]}, {'t...       fr               \n",
       "2  [{'text': 'WarInUkraine', 'indices': [0, 13]},...       en               \n",
       "3  [{'text': 'WeStandWithUkraine', 'indices': [16...       en               \n",
       "4  [{'text': 'GodofWar', 'indices': [80, 89]}, {'...       en               \n",
       "\n",
       "   favorite_count  is_retweet  ... original_tweet_userid   \n",
       "0              13        True  ...                     0  \\\n",
       "1               0        True  ...                     0   \n",
       "2               5        True  ...                     0   \n",
       "3               4        True  ...                     0   \n",
       "4               0        True  ...                     0   \n",
       "\n",
       "  original_tweet_username in_reply_to_status_id in_reply_to_user_id   \n",
       "0                                             0                   0  \\\n",
       "1                                             0                   0   \n",
       "2                                             0                   0   \n",
       "3                                             0                   0   \n",
       "4                                             0                   0   \n",
       "\n",
       "  in_reply_to_screen_name is_quote_status  quoted_status_id   \n",
       "0                                    True                 0  \\\n",
       "1                                    True                 0   \n",
       "2                                    True                 0   \n",
       "3                                    True                 0   \n",
       "4                                    True                 0   \n",
       "\n",
       "  quoted_status_userid quoted_status_username         extractedts  \n",
       "0                    0                        2022-10-11 09:57:02  \n",
       "1                    0                        2022-10-11 02:31:18  \n",
       "2                    0                        2022-10-11 04:37:34  \n",
       "3                    0                        2022-10-11 05:41:38  \n",
       "4                    0                        2022-10-11 02:31:18  \n",
       "\n",
       "[5 rows x 21 columns]"
      ]
     },
     "execution_count": 6,
     "metadata": {},
     "output_type": "execute_result"
    }
   ],
   "source": [
    "dfp.head(5)"
   ]
  },
  {
   "cell_type": "code",
   "execution_count": 21,
   "metadata": {
    "ExecuteTime": {
     "end_time": "2023-05-02T20:11:26.812974Z",
     "start_time": "2023-05-02T20:11:26.798983Z"
    },
    "collapsed": false
   },
   "outputs": [
    {
     "data": {
      "text/plain": [
       "Index(['userid', 'tweetid', 'tweetcreatedts', 'retweetcount', 'text',\n",
       "       'hashtags', 'language', 'coordinates', 'favorite_count', 'is_retweet',\n",
       "       'original_tweet_id', 'original_tweet_userid', 'original_tweet_username',\n",
       "       'in_reply_to_status_id', 'in_reply_to_user_id',\n",
       "       'in_reply_to_screen_name', 'is_quote_status', 'quoted_status_id',\n",
       "       'quoted_status_userid', 'quoted_status_username', 'extractedts'],\n",
       "      dtype='object')"
      ]
     },
     "execution_count": 21,
     "metadata": {},
     "output_type": "execute_result"
    }
   ],
   "source": [
    "dfp.columns"
   ]
  },
  {
   "cell_type": "code",
   "execution_count": 8,
   "metadata": {
    "ExecuteTime": {
     "end_time": "2023-05-02T20:00:05.219466Z",
     "start_time": "2023-05-02T20:00:05.122464Z"
    },
    "collapsed": false
   },
   "outputs": [],
   "source": [
    "# Data cleaning process\n",
    "\n",
    "start_date = datetime(2022, 2, 1)\n",
    "end_date = datetime(2023, 5, 1)\n",
    "\n",
    "dfp = filter_dataframe_by_datetime_bounds(dfp, start_date, end_date)"
   ]
  },
  {
   "cell_type": "code",
   "execution_count": 9,
   "metadata": {
    "ExecuteTime": {
     "end_time": "2023-05-02T18:39:48.650004Z",
     "start_time": "2023-05-02T18:36:15.939728Z"
    },
    "collapsed": false
   },
   "outputs": [
    {
     "data": {
      "text/html": [
       "<div>\n",
       "<style scoped>\n",
       "    .dataframe tbody tr th:only-of-type {\n",
       "        vertical-align: middle;\n",
       "    }\n",
       "\n",
       "    .dataframe tbody tr th {\n",
       "        vertical-align: top;\n",
       "    }\n",
       "\n",
       "    .dataframe thead th {\n",
       "        text-align: right;\n",
       "    }\n",
       "</style>\n",
       "<table border=\"1\" class=\"dataframe\">\n",
       "  <thead>\n",
       "    <tr style=\"text-align: right;\">\n",
       "      <th></th>\n",
       "      <th>userid</th>\n",
       "      <th>tweetid</th>\n",
       "      <th>tweetcreatedts</th>\n",
       "      <th>retweetcount</th>\n",
       "      <th>text</th>\n",
       "      <th>hashtags</th>\n",
       "      <th>language</th>\n",
       "      <th>coordinates</th>\n",
       "      <th>favorite_count</th>\n",
       "      <th>is_retweet</th>\n",
       "      <th>...</th>\n",
       "      <th>original_tweet_userid</th>\n",
       "      <th>original_tweet_username</th>\n",
       "      <th>in_reply_to_status_id</th>\n",
       "      <th>in_reply_to_user_id</th>\n",
       "      <th>in_reply_to_screen_name</th>\n",
       "      <th>is_quote_status</th>\n",
       "      <th>quoted_status_id</th>\n",
       "      <th>quoted_status_userid</th>\n",
       "      <th>quoted_status_username</th>\n",
       "      <th>extractedts</th>\n",
       "    </tr>\n",
       "  </thead>\n",
       "  <tbody>\n",
       "    <tr>\n",
       "      <th>28072</th>\n",
       "      <td>253452288</td>\n",
       "      <td>1627820394538479618</td>\n",
       "      <td>2023-02-21</td>\n",
       "      <td>0</td>\n",
       "      <td>เรื่องที่ขอ จาก #พีททองเจือ ถึงมนุษย์ต่างดาว\\n...</td>\n",
       "      <td>[{'text': 'พีททองเจือ', 'indices': [16, 27]}, ...</td>\n",
       "      <td>th</td>\n",
       "      <td></td>\n",
       "      <td>1</td>\n",
       "      <td>True</td>\n",
       "      <td>...</td>\n",
       "      <td>0</td>\n",
       "      <td></td>\n",
       "      <td>0</td>\n",
       "      <td>0</td>\n",
       "      <td></td>\n",
       "      <td>True</td>\n",
       "      <td>0</td>\n",
       "      <td>0</td>\n",
       "      <td></td>\n",
       "      <td>2023-02-21 01:16:28</td>\n",
       "    </tr>\n",
       "    <tr>\n",
       "      <th>28073</th>\n",
       "      <td>1282574131599486977</td>\n",
       "      <td>1627820395096072192</td>\n",
       "      <td>2023-02-21</td>\n",
       "      <td>0</td>\n",
       "      <td>Russia’s combat losses in #UkraineWar on all f...</td>\n",
       "      <td>[{'text': 'UkraineWar', 'indices': [26, 37]}, ...</td>\n",
       "      <td>en</td>\n",
       "      <td></td>\n",
       "      <td>0</td>\n",
       "      <td>True</td>\n",
       "      <td>...</td>\n",
       "      <td>0</td>\n",
       "      <td></td>\n",
       "      <td>0</td>\n",
       "      <td>0</td>\n",
       "      <td></td>\n",
       "      <td>True</td>\n",
       "      <td>0</td>\n",
       "      <td>0</td>\n",
       "      <td></td>\n",
       "      <td>2023-02-21 07:25:33</td>\n",
       "    </tr>\n",
       "    <tr>\n",
       "      <th>28074</th>\n",
       "      <td>704377198141026305</td>\n",
       "      <td>1627820395754582016</td>\n",
       "      <td>2023-02-21</td>\n",
       "      <td>0</td>\n",
       "      <td>Biden: Kiev, Ucrania, los ucranianos, y la dem...</td>\n",
       "      <td>[{'text': 'ucrania', 'indices': [72, 80]}, {'t...</td>\n",
       "      <td>es</td>\n",
       "      <td></td>\n",
       "      <td>1</td>\n",
       "      <td>True</td>\n",
       "      <td>...</td>\n",
       "      <td>0</td>\n",
       "      <td></td>\n",
       "      <td>0</td>\n",
       "      <td>0</td>\n",
       "      <td></td>\n",
       "      <td>True</td>\n",
       "      <td>0</td>\n",
       "      <td>0</td>\n",
       "      <td></td>\n",
       "      <td>2023-02-21 11:25:05</td>\n",
       "    </tr>\n",
       "    <tr>\n",
       "      <th>28075</th>\n",
       "      <td>60017224</td>\n",
       "      <td>1627820395993915392</td>\n",
       "      <td>2023-02-21</td>\n",
       "      <td>0</td>\n",
       "      <td>#Belarus' authoritarian president said on Mond...</td>\n",
       "      <td>[{'text': 'Belarus', 'indices': [0, 8]}, {'tex...</td>\n",
       "      <td>en</td>\n",
       "      <td></td>\n",
       "      <td>0</td>\n",
       "      <td>True</td>\n",
       "      <td>...</td>\n",
       "      <td>0</td>\n",
       "      <td></td>\n",
       "      <td>0</td>\n",
       "      <td>0</td>\n",
       "      <td></td>\n",
       "      <td>True</td>\n",
       "      <td>0</td>\n",
       "      <td>0</td>\n",
       "      <td></td>\n",
       "      <td>2023-02-21 01:35:23</td>\n",
       "    </tr>\n",
       "    <tr>\n",
       "      <th>28076</th>\n",
       "      <td>22240612</td>\n",
       "      <td>1627820396392116225</td>\n",
       "      <td>2023-02-21</td>\n",
       "      <td>3</td>\n",
       "      <td>#Russia's officials and state media downplay P...</td>\n",
       "      <td>[{'text': 'Russia', 'indices': [0, 7]}, {'text...</td>\n",
       "      <td>en</td>\n",
       "      <td></td>\n",
       "      <td>4</td>\n",
       "      <td>True</td>\n",
       "      <td>...</td>\n",
       "      <td>0</td>\n",
       "      <td></td>\n",
       "      <td>0</td>\n",
       "      <td>0</td>\n",
       "      <td></td>\n",
       "      <td>True</td>\n",
       "      <td>0</td>\n",
       "      <td>0</td>\n",
       "      <td></td>\n",
       "      <td>2023-02-21 06:55:34</td>\n",
       "    </tr>\n",
       "  </tbody>\n",
       "</table>\n",
       "<p>5 rows × 21 columns</p>\n",
       "</div>"
      ],
      "text/plain": [
       "                    userid              tweetid tweetcreatedts  retweetcount   \n",
       "28072            253452288  1627820394538479618     2023-02-21             0  \\\n",
       "28073  1282574131599486977  1627820395096072192     2023-02-21             0   \n",
       "28074   704377198141026305  1627820395754582016     2023-02-21             0   \n",
       "28075             60017224  1627820395993915392     2023-02-21             0   \n",
       "28076             22240612  1627820396392116225     2023-02-21             3   \n",
       "\n",
       "                                                    text   \n",
       "28072  เรื่องที่ขอ จาก #พีททองเจือ ถึงมนุษย์ต่างดาว\\n...  \\\n",
       "28073  Russia’s combat losses in #UkraineWar on all f...   \n",
       "28074  Biden: Kiev, Ucrania, los ucranianos, y la dem...   \n",
       "28075  #Belarus' authoritarian president said on Mond...   \n",
       "28076  #Russia's officials and state media downplay P...   \n",
       "\n",
       "                                                hashtags language coordinates   \n",
       "28072  [{'text': 'พีททองเจือ', 'indices': [16, 27]}, ...       th              \\\n",
       "28073  [{'text': 'UkraineWar', 'indices': [26, 37]}, ...       en               \n",
       "28074  [{'text': 'ucrania', 'indices': [72, 80]}, {'t...       es               \n",
       "28075  [{'text': 'Belarus', 'indices': [0, 8]}, {'tex...       en               \n",
       "28076  [{'text': 'Russia', 'indices': [0, 7]}, {'text...       en               \n",
       "\n",
       "       favorite_count  is_retweet  ... original_tweet_userid   \n",
       "28072               1        True  ...                     0  \\\n",
       "28073               0        True  ...                     0   \n",
       "28074               1        True  ...                     0   \n",
       "28075               0        True  ...                     0   \n",
       "28076               4        True  ...                     0   \n",
       "\n",
       "      original_tweet_username in_reply_to_status_id in_reply_to_user_id   \n",
       "28072                                             0                   0  \\\n",
       "28073                                             0                   0   \n",
       "28074                                             0                   0   \n",
       "28075                                             0                   0   \n",
       "28076                                             0                   0   \n",
       "\n",
       "      in_reply_to_screen_name is_quote_status  quoted_status_id   \n",
       "28072                                    True                 0  \\\n",
       "28073                                    True                 0   \n",
       "28074                                    True                 0   \n",
       "28075                                    True                 0   \n",
       "28076                                    True                 0   \n",
       "\n",
       "      quoted_status_userid quoted_status_username         extractedts  \n",
       "28072                    0                        2023-02-21 01:16:28  \n",
       "28073                    0                        2023-02-21 07:25:33  \n",
       "28074                    0                        2023-02-21 11:25:05  \n",
       "28075                    0                        2023-02-21 01:35:23  \n",
       "28076                    0                        2023-02-21 06:55:34  \n",
       "\n",
       "[5 rows x 21 columns]"
      ]
     },
     "execution_count": 9,
     "metadata": {},
     "output_type": "execute_result"
    }
   ],
   "source": [
    "dfp = dfp.compute()"
   ]
  },
  {
   "cell_type": "code",
   "execution_count": 22,
   "metadata": {
    "ExecuteTime": {
     "end_time": "2023-05-02T18:49:49.208027Z",
     "start_time": "2023-05-02T18:49:49.162049Z"
    },
    "collapsed": false
   },
   "outputs": [
    {
     "data": {
      "text/plain": [
       "pandas.core.frame.DataFrame"
      ]
     },
     "execution_count": 22,
     "metadata": {},
     "output_type": "execute_result"
    }
   ],
   "source": [
    "type(dfp)"
   ]
  },
  {
   "cell_type": "code",
   "execution_count": 20,
   "metadata": {
    "ExecuteTime": {
     "end_time": "2023-05-02T18:47:30.671527Z",
     "start_time": "2023-05-02T18:47:15.096963Z"
    },
    "collapsed": false
   },
   "outputs": [
    {
     "name": "stdout",
     "output_type": "stream",
     "text": [
      "CPU times: user 7.38 s, sys: 3.88 s, total: 11.3 s\n",
      "Wall time: 16 s\n"
     ]
    }
   ],
   "source": [
    "# %%time\n",
    "# # write Februrary 2023 data to disk\n",
    "# # type(dfp) => pandas.core.frame.DataFrame\n",
    "#\n",
    "# dfp.to_parquet(\n",
    "#     '../parquet/tweets_feb2023.parquet',\n",
    "#     engine='pyarrow',\n",
    "#     compression=None,\n",
    "# )"
   ]
  },
  {
   "cell_type": "code",
   "execution_count": 23,
   "metadata": {
    "ExecuteTime": {
     "end_time": "2023-05-02T18:50:21.428766Z",
     "start_time": "2023-05-02T18:50:21.360760Z"
    },
    "collapsed": false
   },
   "outputs": [
    {
     "name": "stdout",
     "output_type": "stream",
     "text": [
      "The earliest tweet was at 2023-02-01 00:00:00, and the latest was at 2023-02-28 00:00:00\n",
      "CPU times: user 56.8 ms, sys: 4.54 ms, total: 61.3 ms\n",
      "Wall time: 63.2 ms\n"
     ]
    }
   ],
   "source": [
    "%%time\n",
    "\n",
    "# Earliest and Latest tweet\n",
    "earliest_tweet = dfp[\"tweetcreatedts\"].min()\n",
    "latest_tweet = dfp[\"tweetcreatedts\"].max()\n",
    "\n",
    "print(f\"The earliest tweet was at {earliest_tweet}, and the latest was at {latest_tweet}\")"
   ]
  },
  {
   "cell_type": "code",
   "execution_count": 22,
   "metadata": {
    "ExecuteTime": {
     "end_time": "2023-05-02T20:11:38.476538Z",
     "start_time": "2023-05-02T20:11:38.421575Z"
    },
    "collapsed": false
   },
   "outputs": [],
   "source": [
    "# select columns for activity analysis\n",
    "cols = ['userid', 'tweetid', 'retweetcount', 'favorite_count']\n",
    "\n",
    "# dfp here is already filtered for only february 2023 dates and computed!\n",
    "dfp_reduced = filter_dataframe_by_datetime_bounds(dfp, datetime(2022, 2, 1), datetime(2023, 5, 2))[cols]"
   ]
  },
  {
   "cell_type": "code",
   "execution_count": 24,
   "metadata": {
    "ExecuteTime": {
     "end_time": "2023-05-02T20:11:50.791330Z",
     "start_time": "2023-05-02T20:11:50.779333Z"
    },
    "collapsed": false
   },
   "outputs": [
    {
     "data": {
      "text/plain": [
       "Index(['userid', 'tweetid', 'retweetcount', 'favorite_count'], dtype='object')"
      ]
     },
     "execution_count": 24,
     "metadata": {},
     "output_type": "execute_result"
    }
   ],
   "source": [
    "dfp_reduced.columns"
   ]
  },
  {
   "cell_type": "code",
   "execution_count": 31,
   "metadata": {
    "ExecuteTime": {
     "end_time": "2023-05-02T18:55:15.052985Z",
     "start_time": "2023-05-02T18:55:15.042971Z"
    },
    "collapsed": false
   },
   "outputs": [
    {
     "data": {
      "text/plain": [
       "(4462306, 21)"
      ]
     },
     "execution_count": 31,
     "metadata": {},
     "output_type": "execute_result"
    }
   ],
   "source": [
    "dfp.shape"
   ]
  },
  {
   "cell_type": "code",
   "execution_count": 32,
   "metadata": {
    "ExecuteTime": {
     "end_time": "2023-05-02T18:55:28.024443Z",
     "start_time": "2023-05-02T18:55:28.010361Z"
    },
    "collapsed": false
   },
   "outputs": [
    {
     "data": {
      "text/plain": [
       "(86698, 5)"
      ]
     },
     "execution_count": 32,
     "metadata": {},
     "output_type": "execute_result"
    }
   ],
   "source": [
    "dfp_reduced.shape"
   ]
  },
  {
   "cell_type": "code",
   "execution_count": 25,
   "metadata": {
    "ExecuteTime": {
     "end_time": "2023-05-02T20:11:56.546785Z",
     "start_time": "2023-05-02T20:11:56.541785Z"
    },
    "collapsed": false
   },
   "outputs": [],
   "source": [
    "# dfp_activity = dfp_reduced.assign(activity_count=lambda x: x['retweetcount'] + x['favorite_count'])\n",
    "dfp_reduced['activity_count'] = dfp_reduced['retweetcount'] + dfp_reduced['favorite_count']\n",
    "dfp_reduced = dfp_reduced.drop(['retweetcount', 'favorite_count'], axis=1)"
   ]
  },
  {
   "cell_type": "code",
   "execution_count": 26,
   "metadata": {
    "ExecuteTime": {
     "end_time": "2023-05-02T20:17:47.555634Z",
     "start_time": "2023-05-02T20:11:59.289716Z"
    },
    "collapsed": false
   },
   "outputs": [
    {
     "name": "stderr",
     "output_type": "stream",
     "text": [
      "2023-05-02 18:16:41,453 - distributed.worker.memory - WARNING - Worker is at 80% memory usage. Pausing worker.  Process memory: 6.22 GiB -- Worker memory limit: 7.75 GiB\n",
      "2023-05-02 18:16:49,021 - distributed.worker.memory - WARNING - Worker is at 79% memory usage. Resuming worker. Process memory: 6.20 GiB -- Worker memory limit: 7.75 GiB\n",
      "2023-05-02 18:16:50,255 - distributed.worker.memory - WARNING - Unmanaged memory use is high. This may indicate a memory leak or the memory may not be released to the OS; see https://distributed.dask.org/en/latest/worker-memory.html#memory-not-released-back-to-the-os for more information. -- Unmanaged memory: 4.92 GiB -- Worker memory limit: 7.75 GiB\n",
      "2023-05-02 18:16:57,196 - distributed.worker.memory - WARNING - Unmanaged memory use is high. This may indicate a memory leak or the memory may not be released to the OS; see https://distributed.dask.org/en/latest/worker-memory.html#memory-not-released-back-to-the-os for more information. -- Unmanaged memory: 5.16 GiB -- Worker memory limit: 7.75 GiB\n",
      "2023-05-02 18:17:05,037 - distributed.worker.memory - WARNING - Unmanaged memory use is high. This may indicate a memory leak or the memory may not be released to the OS; see https://distributed.dask.org/en/latest/worker-memory.html#memory-not-released-back-to-the-os for more information. -- Unmanaged memory: 5.13 GiB -- Worker memory limit: 7.75 GiB\n",
      "2023-05-02 18:17:07,569 - distributed.worker.memory - WARNING - Unmanaged memory use is high. This may indicate a memory leak or the memory may not be released to the OS; see https://distributed.dask.org/en/latest/worker-memory.html#memory-not-released-back-to-the-os for more information. -- Unmanaged memory: 6.09 GiB -- Worker memory limit: 7.75 GiB\n"
     ]
    }
   ],
   "source": [
    "dfp_reduced = dfp_reduced.compute()"
   ]
  },
  {
   "cell_type": "code",
   "execution_count": 27,
   "metadata": {
    "ExecuteTime": {
     "end_time": "2023-05-02T20:24:56.825164Z",
     "start_time": "2023-05-02T20:23:49.940638Z"
    },
    "collapsed": false
   },
   "outputs": [
    {
     "data": {
      "text/plain": [
       "activity_count\n",
       "0                 1141911\n",
       "2                  412997\n",
       "4                  233858\n",
       "6                  147630\n",
       "8                  108313\n",
       "                   ...   \n",
       "241476                  1\n",
       "241478                  1\n",
       "241480                  1\n",
       "241482                  1\n",
       "48761326                1\n",
       "Name: count, Length: 145623, dtype: int64"
      ]
     },
     "execution_count": 27,
     "metadata": {},
     "output_type": "execute_result"
    }
   ],
   "source": [
    "dfp_activity = dfp_reduced.groupby(\"userid\").sum(\"activity_count\")\n",
    "activity = dfp_activity.value_counts()\n",
    "# x = activity[\"activity_count\"]\n",
    "# y = activity[\"count\"]\n",
    "activity"
   ]
  },
  {
   "cell_type": "code",
   "execution_count": 28,
   "metadata": {
    "ExecuteTime": {
     "end_time": "2023-05-02T20:25:06.067392Z",
     "start_time": "2023-05-02T20:25:05.047752Z"
    },
    "collapsed": false
   },
   "outputs": [
    {
     "data": {
      "image/png": "[encoded data removed]",
      "text/plain": [
       "<Figure size 640x480 with 1 Axes>"
      ]
     },
     "metadata": {},
     "output_type": "display_data"
    }
   ],
   "source": [
    "# TODO: policzyć takie same rozkłady dla wszystkich danych\n",
    "activity.plot()\n",
    "plt.title('Distribution of Twitter users by total activity of their posts')\n",
    "\n",
    "plt.xlabel('Activity count')\n",
    "plt.ylabel('Twitter accounts generating this amount of activity')\n",
    "\n",
    "plt.show()"
   ]
  },
  {
   "cell_type": "code",
   "execution_count": 29,
   "metadata": {
    "ExecuteTime": {
     "end_time": "2023-05-02T20:25:13.862939Z",
     "start_time": "2023-05-02T20:25:13.837939Z"
    },
    "collapsed": false
   },
   "outputs": [
    {
     "name": "stdout",
     "output_type": "stream",
     "text": [
      "The threshold is 424.77999999999884\n"
     ]
    }
   ],
   "source": [
    "# Get the 3% of most active accounts\n",
    "threshold = activity.quantile(0.99)\n",
    "print(f\"The threshold is {threshold}\")"
   ]
  },
  {
   "cell_type": "code",
   "execution_count": 30,
   "metadata": {
    "ExecuteTime": {
     "end_time": "2023-05-02T20:25:18.237742Z",
     "start_time": "2023-05-02T20:25:17.930710Z"
    },
    "collapsed": false
   },
   "outputs": [],
   "source": [
    "top_1_precent = dfp_activity[dfp_activity[\"activity_count\"] >= threshold]"
   ]
  },
  {
   "cell_type": "code",
   "execution_count": 31,
   "metadata": {
    "ExecuteTime": {
     "end_time": "2023-05-02T20:25:22.624472Z",
     "start_time": "2023-05-02T20:25:21.492289Z"
    },
    "collapsed": false
   },
   "outputs": [
    {
     "data": {
      "text/html": [
       "<div>\n",
       "<style scoped>\n",
       "    .dataframe tbody tr th:only-of-type {\n",
       "        vertical-align: middle;\n",
       "    }\n",
       "\n",
       "    .dataframe tbody tr th {\n",
       "        vertical-align: top;\n",
       "    }\n",
       "\n",
       "    .dataframe thead th {\n",
       "        text-align: right;\n",
       "    }\n",
       "</style>\n",
       "<table border=\"1\" class=\"dataframe\">\n",
       "  <thead>\n",
       "    <tr style=\"text-align: right;\">\n",
       "      <th></th>\n",
       "      <th>activity_count</th>\n",
       "    </tr>\n",
       "    <tr>\n",
       "      <th>userid</th>\n",
       "      <th></th>\n",
       "    </tr>\n",
       "  </thead>\n",
       "  <tbody>\n",
       "    <tr>\n",
       "      <th>152930351</th>\n",
       "      <td>48761326</td>\n",
       "    </tr>\n",
       "    <tr>\n",
       "      <th>1891490382</th>\n",
       "      <td>14775030</td>\n",
       "    </tr>\n",
       "    <tr>\n",
       "      <th>4373117295</th>\n",
       "      <td>12310382</td>\n",
       "    </tr>\n",
       "    <tr>\n",
       "      <th>1495480590572961792</th>\n",
       "      <td>10824912</td>\n",
       "    </tr>\n",
       "    <tr>\n",
       "      <th>859767591811915776</th>\n",
       "      <td>10789902</td>\n",
       "    </tr>\n",
       "    <tr>\n",
       "      <th>...</th>\n",
       "      <td>...</td>\n",
       "    </tr>\n",
       "    <tr>\n",
       "      <th>1446038999169212417</th>\n",
       "      <td>426</td>\n",
       "    </tr>\n",
       "    <tr>\n",
       "      <th>1539132930089537536</th>\n",
       "      <td>426</td>\n",
       "    </tr>\n",
       "    <tr>\n",
       "      <th>558630367</th>\n",
       "      <td>426</td>\n",
       "    </tr>\n",
       "    <tr>\n",
       "      <th>20353477</th>\n",
       "      <td>426</td>\n",
       "    </tr>\n",
       "    <tr>\n",
       "      <th>1425285581483909121</th>\n",
       "      <td>426</td>\n",
       "    </tr>\n",
       "  </tbody>\n",
       "</table>\n",
       "<p>2890646 rows × 1 columns</p>\n",
       "</div>"
      ],
      "text/plain": [
       "                     activity_count\n",
       "userid                             \n",
       "152930351                  48761326\n",
       "1891490382                 14775030\n",
       "4373117295                 12310382\n",
       "1495480590572961792        10824912\n",
       "859767591811915776         10789902\n",
       "...                             ...\n",
       "1446038999169212417             426\n",
       "1539132930089537536             426\n",
       "558630367                       426\n",
       "20353477                        426\n",
       "1425285581483909121             426\n",
       "\n",
       "[2890646 rows x 1 columns]"
      ]
     },
     "execution_count": 31,
     "metadata": {},
     "output_type": "execute_result"
    }
   ],
   "source": [
    "top_1_precent.sort_values(\"activity_count\", ascending=False)"
   ]
  },
  {
   "cell_type": "code",
   "execution_count": 32,
   "metadata": {
    "ExecuteTime": {
     "end_time": "2023-05-02T20:28:14.665250Z",
     "start_time": "2023-05-02T20:28:11.784876Z"
    },
    "collapsed": false
   },
   "outputs": [
    {
     "name": "stdout",
     "output_type": "stream",
     "text": [
      "CPU times: user 2.78 s, sys: 115 ms, total: 2.89 s\n",
      "Wall time: 2.92 s\n"
     ]
    }
   ],
   "source": [
    "%%time\n",
    "# write most followed userid data to disk\n",
    "# type(top_1_precent) => pandas.core.frame.DataFrame\n",
    "\n",
    "top_1_precent.to_csv(\n",
    "    '../parquet/most_interactions_userid.csv',\n",
    ")"
   ]
  }
 ],
 "metadata": {
  "kernelspec": {
   "display_name": "Python 3",
   "language": "python",
   "name": "python3"
  },
  "language_info": {
   "codemirror_mode": {
    "name": "ipython",
    "version": 2
   },
   "file_extension": ".py",
   "mimetype": "text/x-python",
   "name": "python",
   "nbconvert_exporter": "python",
   "pygments_lexer": "ipython2",
   "version": "2.7.6"
  }
 },
 "nbformat": 4,
 "nbformat_minor": 0
}

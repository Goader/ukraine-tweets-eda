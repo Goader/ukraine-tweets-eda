{
 "cells": [
  {
   "cell_type": "markdown",
   "id": "93451664",
   "metadata": {},
   "source": [
    "# Profiling and Optimization"
   ]
  },
  {
   "cell_type": "code",
   "execution_count": 28,
   "id": "a143e53b",
   "metadata": {},
   "outputs": [],
   "source": [
    "import numpy as np\n",
    "import pandas as pd\n",
    "import seaborn as sns\n",
    "import matplotlib.pyplot as plt\n",
    "\n",
    "import dask\n",
    "import dask_mongo\n",
    "import dask.dataframe as dd\n",
    "\n",
    "from langcodes import Language"
   ]
  },
  {
   "cell_type": "code",
   "execution_count": 2,
   "id": "061a6c95",
   "metadata": {},
   "outputs": [],
   "source": [
    "sns.set_theme(style='darkgrid')"
   ]
  },
  {
   "cell_type": "markdown",
   "id": "e92b5223",
   "metadata": {},
   "source": [
    "## Connecting to MongoDB"
   ]
  },
  {
   "cell_type": "code",
   "execution_count": 30,
   "id": "e214f411",
   "metadata": {},
   "outputs": [],
   "source": [
    "from dask.diagnostics import ProgressBar, Profiler"
   ]
  },
  {
   "cell_type": "code",
   "execution_count": 5,
   "id": "d63dc7e7",
   "metadata": {},
   "outputs": [
    {
     "name": "stdout",
     "output_type": "stream",
     "text": [
      "CPU times: user 304 ms, sys: 91.5 ms, total: 396 ms\n",
      "Wall time: 13min 35s\n"
     ]
    }
   ],
   "source": [
    "%%time\n",
    "\n",
    "b = dask_mongo.read_mongo(\n",
    "    database='ed23db',\n",
    "    collection='users',\n",
    "    chunksize=200_000,\n",
    "    connection_kwargs={\n",
    "        'host': 'localhost',\n",
    "        'port': 27017\n",
    "    }\n",
    ")"
   ]
  },
  {
   "cell_type": "code",
   "execution_count": 134,
   "id": "bb1a70c8",
   "metadata": {},
   "outputs": [],
   "source": [
    "df = b.to_dataframe(meta={\n",
    "#     '_id': str,\n",
    "    'userid': 'str',\n",
    "    'username': 'str',\n",
    "    'location': 'str',\n",
    "    'following': 'int32',\n",
    "    'followers': 'int32',\n",
    "    'totaltweets': 'int32',\n",
    "    'usercreatedts': 'str'\n",
    "#     'usercreatedts': 'datetime64[s]'\n",
    "})"
   ]
  },
  {
   "cell_type": "code",
   "execution_count": 135,
   "id": "775e678c",
   "metadata": {},
   "outputs": [
    {
     "data": {
      "text/plain": [
       "Index(['userid', 'username', 'location', 'following', 'followers',\n",
       "       'totaltweets', 'usercreatedts'],\n",
       "      dtype='object')"
      ]
     },
     "execution_count": 135,
     "metadata": {},
     "output_type": "execute_result"
    }
   ],
   "source": [
    "df.columns"
   ]
  },
  {
   "cell_type": "code",
   "execution_count": 136,
   "id": "49a618f5",
   "metadata": {},
   "outputs": [
    {
     "data": {
      "text/plain": [
       "userid           object\n",
       "username         object\n",
       "location         object\n",
       "following         int32\n",
       "followers         int32\n",
       "totaltweets       int32\n",
       "usercreatedts    object\n",
       "dtype: object"
      ]
     },
     "execution_count": 136,
     "metadata": {},
     "output_type": "execute_result"
    }
   ],
   "source": [
    "df.dtypes"
   ]
  },
  {
   "cell_type": "code",
   "execution_count": 137,
   "id": "f0506e48",
   "metadata": {},
   "outputs": [],
   "source": [
    "df['usercreatedts'] = df['usercreatedts'].map(lambda dt: dt[:19])"
   ]
  },
  {
   "cell_type": "code",
   "execution_count": 138,
   "id": "84e5352e",
   "metadata": {},
   "outputs": [],
   "source": [
    "df['usercreatedts'] = dd.to_datetime(df['usercreatedts'], format='%Y-%m-%d %H:%M:%S')"
   ]
  },
  {
   "cell_type": "code",
   "execution_count": 139,
   "id": "60e97fa9",
   "metadata": {},
   "outputs": [
    {
     "data": {
      "text/plain": [
       "userid                   object\n",
       "username                 object\n",
       "location                 object\n",
       "following                 int32\n",
       "followers                 int32\n",
       "totaltweets               int32\n",
       "usercreatedts    datetime64[ns]\n",
       "dtype: object"
      ]
     },
     "execution_count": 139,
     "metadata": {},
     "output_type": "execute_result"
    }
   ],
   "source": [
    "df.dtypes"
   ]
  },
  {
   "cell_type": "code",
   "execution_count": 140,
   "id": "080f75bd",
   "metadata": {},
   "outputs": [
    {
     "data": {
      "text/html": [
       "<div>\n",
       "<style scoped>\n",
       "    .dataframe tbody tr th:only-of-type {\n",
       "        vertical-align: middle;\n",
       "    }\n",
       "\n",
       "    .dataframe tbody tr th {\n",
       "        vertical-align: top;\n",
       "    }\n",
       "\n",
       "    .dataframe thead th {\n",
       "        text-align: right;\n",
       "    }\n",
       "</style>\n",
       "<table border=\"1\" class=\"dataframe\">\n",
       "  <thead>\n",
       "    <tr style=\"text-align: right;\">\n",
       "      <th></th>\n",
       "      <th>userid</th>\n",
       "      <th>username</th>\n",
       "      <th>location</th>\n",
       "      <th>following</th>\n",
       "      <th>followers</th>\n",
       "      <th>totaltweets</th>\n",
       "      <th>usercreatedts</th>\n",
       "    </tr>\n",
       "  </thead>\n",
       "  <tbody>\n",
       "    <tr>\n",
       "      <th>0</th>\n",
       "      <td>1237027988287471618</td>\n",
       "      <td>pbi_es</td>\n",
       "      <td>Palestina</td>\n",
       "      <td>86</td>\n",
       "      <td>6855</td>\n",
       "      <td>6401</td>\n",
       "      <td>2020-03-09 14:50:40</td>\n",
       "    </tr>\n",
       "    <tr>\n",
       "      <th>1</th>\n",
       "      <td>1407899290790473732</td>\n",
       "      <td>SectionChine</td>\n",
       "      <td></td>\n",
       "      <td>1718</td>\n",
       "      <td>1668</td>\n",
       "      <td>335</td>\n",
       "      <td>2021-06-24 06:06:32</td>\n",
       "    </tr>\n",
       "    <tr>\n",
       "      <th>2</th>\n",
       "      <td>6509832</td>\n",
       "      <td>CNNnews18</td>\n",
       "      <td>India</td>\n",
       "      <td>399</td>\n",
       "      <td>4730654</td>\n",
       "      <td>997125</td>\n",
       "      <td>2007-06-01 20:31:01</td>\n",
       "    </tr>\n",
       "    <tr>\n",
       "      <th>3</th>\n",
       "      <td>1570222426570608641</td>\n",
       "      <td>AmazingMeta</td>\n",
       "      <td>Los Angeles</td>\n",
       "      <td>86</td>\n",
       "      <td>26</td>\n",
       "      <td>276</td>\n",
       "      <td>2022-09-15 01:26:48</td>\n",
       "    </tr>\n",
       "    <tr>\n",
       "      <th>4</th>\n",
       "      <td>20918680</td>\n",
       "      <td>CallMeAdamNYC</td>\n",
       "      <td>New York, NY</td>\n",
       "      <td>2228</td>\n",
       "      <td>2479</td>\n",
       "      <td>13155</td>\n",
       "      <td>2009-02-15 16:24:01</td>\n",
       "    </tr>\n",
       "    <tr>\n",
       "      <th>5</th>\n",
       "      <td>216893584</td>\n",
       "      <td>lavisionatl</td>\n",
       "      <td>Atlanta Georgia</td>\n",
       "      <td>942</td>\n",
       "      <td>3124</td>\n",
       "      <td>52076</td>\n",
       "      <td>2010-11-18 00:38:14</td>\n",
       "    </tr>\n",
       "    <tr>\n",
       "      <th>6</th>\n",
       "      <td>62089976</td>\n",
       "      <td>yunec</td>\n",
       "      <td>Kraków, Polska</td>\n",
       "      <td>2582</td>\n",
       "      <td>6560</td>\n",
       "      <td>132814</td>\n",
       "      <td>2009-08-01 18:35:04</td>\n",
       "    </tr>\n",
       "    <tr>\n",
       "      <th>7</th>\n",
       "      <td>209520717</td>\n",
       "      <td>olivanoticias</td>\n",
       "      <td>México</td>\n",
       "      <td>381</td>\n",
       "      <td>25068</td>\n",
       "      <td>249266</td>\n",
       "      <td>2010-10-29 10:39:49</td>\n",
       "    </tr>\n",
       "    <tr>\n",
       "      <th>8</th>\n",
       "      <td>1573729011364241409</td>\n",
       "      <td>funny0animals</td>\n",
       "      <td></td>\n",
       "      <td>1</td>\n",
       "      <td>17</td>\n",
       "      <td>307</td>\n",
       "      <td>2022-09-24 17:40:19</td>\n",
       "    </tr>\n",
       "    <tr>\n",
       "      <th>9</th>\n",
       "      <td>916681683134447617</td>\n",
       "      <td>MilaPlayporn</td>\n",
       "      <td></td>\n",
       "      <td>19</td>\n",
       "      <td>8917</td>\n",
       "      <td>51528</td>\n",
       "      <td>2017-10-07 15:08:39</td>\n",
       "    </tr>\n",
       "    <tr>\n",
       "      <th>10</th>\n",
       "      <td>859964369932767232</td>\n",
       "      <td>MarioBekes</td>\n",
       "      <td>Sydney, New South Wales</td>\n",
       "      <td>4997</td>\n",
       "      <td>1451</td>\n",
       "      <td>2967</td>\n",
       "      <td>2017-05-04 02:54:17</td>\n",
       "    </tr>\n",
       "    <tr>\n",
       "      <th>11</th>\n",
       "      <td>1499763123603050497</td>\n",
       "      <td>FuckPutinBot</td>\n",
       "      <td></td>\n",
       "      <td>14</td>\n",
       "      <td>243</td>\n",
       "      <td>305460</td>\n",
       "      <td>2022-03-04 15:06:25</td>\n",
       "    </tr>\n",
       "    <tr>\n",
       "      <th>12</th>\n",
       "      <td>88537980</td>\n",
       "      <td>Elpoliticonews</td>\n",
       "      <td></td>\n",
       "      <td>1916</td>\n",
       "      <td>218265</td>\n",
       "      <td>1505803</td>\n",
       "      <td>2009-11-08 23:26:19</td>\n",
       "    </tr>\n",
       "    <tr>\n",
       "      <th>13</th>\n",
       "      <td>321392069</td>\n",
       "      <td>trendingmk</td>\n",
       "      <td>Macedonia</td>\n",
       "      <td>2746</td>\n",
       "      <td>11907</td>\n",
       "      <td>42504</td>\n",
       "      <td>2011-06-21 14:09:07</td>\n",
       "    </tr>\n",
       "    <tr>\n",
       "      <th>14</th>\n",
       "      <td>1579614019765223424</td>\n",
       "      <td>KatKai19</td>\n",
       "      <td>mexico?</td>\n",
       "      <td>1</td>\n",
       "      <td>1</td>\n",
       "      <td>2</td>\n",
       "      <td>2022-10-10 23:25:14</td>\n",
       "    </tr>\n",
       "    <tr>\n",
       "      <th>15</th>\n",
       "      <td>567652472</td>\n",
       "      <td>TeLoCuentoNews</td>\n",
       "      <td>Latinoamerica</td>\n",
       "      <td>10</td>\n",
       "      <td>83216</td>\n",
       "      <td>291583</td>\n",
       "      <td>2012-04-30 23:28:24</td>\n",
       "    </tr>\n",
       "    <tr>\n",
       "      <th>16</th>\n",
       "      <td>1438428516517875713</td>\n",
       "      <td>UnderaWingCaddo</td>\n",
       "      <td>Crackerbarrell, TN.</td>\n",
       "      <td>4</td>\n",
       "      <td>47</td>\n",
       "      <td>5174</td>\n",
       "      <td>2021-09-16 09:04:54</td>\n",
       "    </tr>\n",
       "    <tr>\n",
       "      <th>17</th>\n",
       "      <td>1192530074</td>\n",
       "      <td>awwikanadi</td>\n",
       "      <td>Where do you live?</td>\n",
       "      <td>1009</td>\n",
       "      <td>1205</td>\n",
       "      <td>7865</td>\n",
       "      <td>2013-02-18 08:55:02</td>\n",
       "    </tr>\n",
       "    <tr>\n",
       "      <th>18</th>\n",
       "      <td>1452636766578429960</td>\n",
       "      <td>desi_sattayar</td>\n",
       "      <td></td>\n",
       "      <td>25</td>\n",
       "      <td>8</td>\n",
       "      <td>160</td>\n",
       "      <td>2021-10-25 14:03:20</td>\n",
       "    </tr>\n",
       "    <tr>\n",
       "      <th>19</th>\n",
       "      <td>760052005</td>\n",
       "      <td>marue81</td>\n",
       "      <td>Tampa</td>\n",
       "      <td>572</td>\n",
       "      <td>327</td>\n",
       "      <td>113142</td>\n",
       "      <td>2012-08-15 19:55:10</td>\n",
       "    </tr>\n",
       "  </tbody>\n",
       "</table>\n",
       "</div>"
      ],
      "text/plain": [
       "                 userid         username                 location  following   \n",
       "0   1237027988287471618           pbi_es                Palestina         86  \\\n",
       "1   1407899290790473732     SectionChine                                1718   \n",
       "2               6509832        CNNnews18                    India        399   \n",
       "3   1570222426570608641      AmazingMeta              Los Angeles         86   \n",
       "4              20918680    CallMeAdamNYC             New York, NY       2228   \n",
       "5             216893584      lavisionatl          Atlanta Georgia        942   \n",
       "6              62089976            yunec           Kraków, Polska       2582   \n",
       "7             209520717    olivanoticias                   México        381   \n",
       "8   1573729011364241409    funny0animals                                   1   \n",
       "9    916681683134447617     MilaPlayporn                                  19   \n",
       "10   859964369932767232       MarioBekes  Sydney, New South Wales       4997   \n",
       "11  1499763123603050497     FuckPutinBot                                  14   \n",
       "12             88537980   Elpoliticonews                                1916   \n",
       "13            321392069       trendingmk                Macedonia       2746   \n",
       "14  1579614019765223424         KatKai19                  mexico?          1   \n",
       "15            567652472   TeLoCuentoNews            Latinoamerica         10   \n",
       "16  1438428516517875713  UnderaWingCaddo      Crackerbarrell, TN.          4   \n",
       "17           1192530074       awwikanadi       Where do you live?       1009   \n",
       "18  1452636766578429960    desi_sattayar                                  25   \n",
       "19            760052005          marue81                    Tampa        572   \n",
       "\n",
       "    followers  totaltweets       usercreatedts  \n",
       "0        6855         6401 2020-03-09 14:50:40  \n",
       "1        1668          335 2021-06-24 06:06:32  \n",
       "2     4730654       997125 2007-06-01 20:31:01  \n",
       "3          26          276 2022-09-15 01:26:48  \n",
       "4        2479        13155 2009-02-15 16:24:01  \n",
       "5        3124        52076 2010-11-18 00:38:14  \n",
       "6        6560       132814 2009-08-01 18:35:04  \n",
       "7       25068       249266 2010-10-29 10:39:49  \n",
       "8          17          307 2022-09-24 17:40:19  \n",
       "9        8917        51528 2017-10-07 15:08:39  \n",
       "10       1451         2967 2017-05-04 02:54:17  \n",
       "11        243       305460 2022-03-04 15:06:25  \n",
       "12     218265      1505803 2009-11-08 23:26:19  \n",
       "13      11907        42504 2011-06-21 14:09:07  \n",
       "14          1            2 2022-10-10 23:25:14  \n",
       "15      83216       291583 2012-04-30 23:28:24  \n",
       "16         47         5174 2021-09-16 09:04:54  \n",
       "17       1205         7865 2013-02-18 08:55:02  \n",
       "18          8          160 2021-10-25 14:03:20  \n",
       "19        327       113142 2012-08-15 19:55:10  "
      ]
     },
     "execution_count": 140,
     "metadata": {},
     "output_type": "execute_result"
    }
   ],
   "source": [
    "df.head(20)"
   ]
  },
  {
   "cell_type": "markdown",
   "id": "3c46e544",
   "metadata": {},
   "source": [
    "## Profiling simple operation"
   ]
  },
  {
   "cell_type": "markdown",
   "id": "ddd56e37",
   "metadata": {},
   "source": [
    "### MongoDB"
   ]
  },
  {
   "cell_type": "code",
   "execution_count": 21,
   "id": "fe83541a",
   "metadata": {},
   "outputs": [
    {
     "name": "stdout",
     "output_type": "stream",
     "text": [
      "[########################################] | 100% Completed | 14m 22s\n",
      "CPU times: user 14min 30s, sys: 26.7 s, total: 14min 56s\n",
      "Wall time: 14min 22s\n"
     ]
    }
   ],
   "source": [
    "%%time\n",
    "\n",
    "with ProgressBar(dt=2.0), Profiler() as prof2:\n",
    "    df.shape[0].compute(), df.shape[1]  # all entries"
   ]
  },
  {
   "cell_type": "code",
   "execution_count": 41,
   "id": "1d125729",
   "metadata": {},
   "outputs": [
    {
     "data": {
      "text/html": [
       "<div style=\"display: table;\"><div style=\"display: table-row;\"><div style=\"display: table-cell;\"><b title=\"bokeh.plotting._figure.figure\">figure</b>(</div><div style=\"display: table-cell;\">id&nbsp;=&nbsp;'p3214', <span id=\"p3391\" style=\"cursor: pointer;\">&hellip;)</span></div></div><div class=\"p3390\" style=\"display: none;\"><div style=\"display: table-cell;\"></div><div style=\"display: table-cell;\">above&nbsp;=&nbsp;[],</div></div><div class=\"p3390\" style=\"display: none;\"><div style=\"display: table-cell;\"></div><div style=\"display: table-cell;\">align&nbsp;=&nbsp;'auto',</div></div><div class=\"p3390\" style=\"display: none;\"><div style=\"display: table-cell;\"></div><div style=\"display: table-cell;\">aspect_ratio&nbsp;=&nbsp;None,</div></div><div class=\"p3390\" style=\"display: none;\"><div style=\"display: table-cell;\"></div><div style=\"display: table-cell;\">aspect_scale&nbsp;=&nbsp;1,</div></div><div class=\"p3390\" style=\"display: none;\"><div style=\"display: table-cell;\"></div><div style=\"display: table-cell;\">background_fill_alpha&nbsp;=&nbsp;1.0,</div></div><div class=\"p3390\" style=\"display: none;\"><div style=\"display: table-cell;\"></div><div style=\"display: table-cell;\">background_fill_color&nbsp;=&nbsp;'#ffffff',</div></div><div class=\"p3390\" style=\"display: none;\"><div style=\"display: table-cell;\"></div><div style=\"display: table-cell;\">below&nbsp;=&nbsp;[LinearAxis(id='p3232', ...)],</div></div><div class=\"p3390\" style=\"display: none;\"><div style=\"display: table-cell;\"></div><div style=\"display: table-cell;\">border_fill_alpha&nbsp;=&nbsp;1.0,</div></div><div class=\"p3390\" style=\"display: none;\"><div style=\"display: table-cell;\"></div><div style=\"display: table-cell;\">border_fill_color&nbsp;=&nbsp;'#ffffff',</div></div><div class=\"p3390\" style=\"display: none;\"><div style=\"display: table-cell;\"></div><div style=\"display: table-cell;\">center&nbsp;=&nbsp;[Grid(id='p3238', ...), Grid(id='p3244', ...)],</div></div><div class=\"p3390\" style=\"display: none;\"><div style=\"display: table-cell;\"></div><div style=\"display: table-cell;\">context_menu&nbsp;=&nbsp;None,</div></div><div class=\"p3390\" style=\"display: none;\"><div style=\"display: table-cell;\"></div><div style=\"display: table-cell;\">css_classes&nbsp;=&nbsp;[],</div></div><div class=\"p3390\" style=\"display: none;\"><div style=\"display: table-cell;\"></div><div style=\"display: table-cell;\">disabled&nbsp;=&nbsp;False,</div></div><div class=\"p3390\" style=\"display: none;\"><div style=\"display: table-cell;\"></div><div style=\"display: table-cell;\">extra_x_ranges&nbsp;=&nbsp;{},</div></div><div class=\"p3390\" style=\"display: none;\"><div style=\"display: table-cell;\"></div><div style=\"display: table-cell;\">extra_x_scales&nbsp;=&nbsp;{},</div></div><div class=\"p3390\" style=\"display: none;\"><div style=\"display: table-cell;\"></div><div style=\"display: table-cell;\">extra_y_ranges&nbsp;=&nbsp;{},</div></div><div class=\"p3390\" style=\"display: none;\"><div style=\"display: table-cell;\"></div><div style=\"display: table-cell;\">extra_y_scales&nbsp;=&nbsp;{},</div></div><div class=\"p3390\" style=\"display: none;\"><div style=\"display: table-cell;\"></div><div style=\"display: table-cell;\">flow_mode&nbsp;=&nbsp;'block',</div></div><div class=\"p3390\" style=\"display: none;\"><div style=\"display: table-cell;\"></div><div style=\"display: table-cell;\">frame_align&nbsp;=&nbsp;True,</div></div><div class=\"p3390\" style=\"display: none;\"><div style=\"display: table-cell;\"></div><div style=\"display: table-cell;\">frame_height&nbsp;=&nbsp;None,</div></div><div class=\"p3390\" style=\"display: none;\"><div style=\"display: table-cell;\"></div><div style=\"display: table-cell;\">frame_width&nbsp;=&nbsp;None,</div></div><div class=\"p3390\" style=\"display: none;\"><div style=\"display: table-cell;\"></div><div style=\"display: table-cell;\">height&nbsp;=&nbsp;300,</div></div><div class=\"p3390\" style=\"display: none;\"><div style=\"display: table-cell;\"></div><div style=\"display: table-cell;\">height_policy&nbsp;=&nbsp;'auto',</div></div><div class=\"p3390\" style=\"display: none;\"><div style=\"display: table-cell;\"></div><div style=\"display: table-cell;\">hidpi&nbsp;=&nbsp;True,</div></div><div class=\"p3390\" style=\"display: none;\"><div style=\"display: table-cell;\"></div><div style=\"display: table-cell;\">hold_render&nbsp;=&nbsp;False,</div></div><div class=\"p3390\" style=\"display: none;\"><div style=\"display: table-cell;\"></div><div style=\"display: table-cell;\">js_event_callbacks&nbsp;=&nbsp;{},</div></div><div class=\"p3390\" style=\"display: none;\"><div style=\"display: table-cell;\"></div><div style=\"display: table-cell;\">js_property_callbacks&nbsp;=&nbsp;{},</div></div><div class=\"p3390\" style=\"display: none;\"><div style=\"display: table-cell;\"></div><div style=\"display: table-cell;\">left&nbsp;=&nbsp;[CategoricalAxis(id='p3239', ...)],</div></div><div class=\"p3390\" style=\"display: none;\"><div style=\"display: table-cell;\"></div><div style=\"display: table-cell;\">lod_factor&nbsp;=&nbsp;10,</div></div><div class=\"p3390\" style=\"display: none;\"><div style=\"display: table-cell;\"></div><div style=\"display: table-cell;\">lod_interval&nbsp;=&nbsp;300,</div></div><div class=\"p3390\" style=\"display: none;\"><div style=\"display: table-cell;\"></div><div style=\"display: table-cell;\">lod_threshold&nbsp;=&nbsp;2000,</div></div><div class=\"p3390\" style=\"display: none;\"><div style=\"display: table-cell;\"></div><div style=\"display: table-cell;\">lod_timeout&nbsp;=&nbsp;500,</div></div><div class=\"p3390\" style=\"display: none;\"><div style=\"display: table-cell;\"></div><div style=\"display: table-cell;\">margin&nbsp;=&nbsp;None,</div></div><div class=\"p3390\" style=\"display: none;\"><div style=\"display: table-cell;\"></div><div style=\"display: table-cell;\">match_aspect&nbsp;=&nbsp;False,</div></div><div class=\"p3390\" style=\"display: none;\"><div style=\"display: table-cell;\"></div><div style=\"display: table-cell;\">max_height&nbsp;=&nbsp;None,</div></div><div class=\"p3390\" style=\"display: none;\"><div style=\"display: table-cell;\"></div><div style=\"display: table-cell;\">max_width&nbsp;=&nbsp;None,</div></div><div class=\"p3390\" style=\"display: none;\"><div style=\"display: table-cell;\"></div><div style=\"display: table-cell;\">min_border&nbsp;=&nbsp;5,</div></div><div class=\"p3390\" style=\"display: none;\"><div style=\"display: table-cell;\"></div><div style=\"display: table-cell;\">min_border_bottom&nbsp;=&nbsp;None,</div></div><div class=\"p3390\" style=\"display: none;\"><div style=\"display: table-cell;\"></div><div style=\"display: table-cell;\">min_border_left&nbsp;=&nbsp;None,</div></div><div class=\"p3390\" style=\"display: none;\"><div style=\"display: table-cell;\"></div><div style=\"display: table-cell;\">min_border_right&nbsp;=&nbsp;None,</div></div><div class=\"p3390\" style=\"display: none;\"><div style=\"display: table-cell;\"></div><div style=\"display: table-cell;\">min_border_top&nbsp;=&nbsp;None,</div></div><div class=\"p3390\" style=\"display: none;\"><div style=\"display: table-cell;\"></div><div style=\"display: table-cell;\">min_height&nbsp;=&nbsp;None,</div></div><div class=\"p3390\" style=\"display: none;\"><div style=\"display: table-cell;\"></div><div style=\"display: table-cell;\">min_width&nbsp;=&nbsp;None,</div></div><div class=\"p3390\" style=\"display: none;\"><div style=\"display: table-cell;\"></div><div style=\"display: table-cell;\">name&nbsp;=&nbsp;None,</div></div><div class=\"p3390\" style=\"display: none;\"><div style=\"display: table-cell;\"></div><div style=\"display: table-cell;\">outline_line_alpha&nbsp;=&nbsp;1.0,</div></div><div class=\"p3390\" style=\"display: none;\"><div style=\"display: table-cell;\"></div><div style=\"display: table-cell;\">outline_line_cap&nbsp;=&nbsp;'butt',</div></div><div class=\"p3390\" style=\"display: none;\"><div style=\"display: table-cell;\"></div><div style=\"display: table-cell;\">outline_line_color&nbsp;=&nbsp;'#e5e5e5',</div></div><div class=\"p3390\" style=\"display: none;\"><div style=\"display: table-cell;\"></div><div style=\"display: table-cell;\">outline_line_dash&nbsp;=&nbsp;[],</div></div><div class=\"p3390\" style=\"display: none;\"><div style=\"display: table-cell;\"></div><div style=\"display: table-cell;\">outline_line_dash_offset&nbsp;=&nbsp;0,</div></div><div class=\"p3390\" style=\"display: none;\"><div style=\"display: table-cell;\"></div><div style=\"display: table-cell;\">outline_line_join&nbsp;=&nbsp;'bevel',</div></div><div class=\"p3390\" style=\"display: none;\"><div style=\"display: table-cell;\"></div><div style=\"display: table-cell;\">outline_line_width&nbsp;=&nbsp;1,</div></div><div class=\"p3390\" style=\"display: none;\"><div style=\"display: table-cell;\"></div><div style=\"display: table-cell;\">output_backend&nbsp;=&nbsp;'canvas',</div></div><div class=\"p3390\" style=\"display: none;\"><div style=\"display: table-cell;\"></div><div style=\"display: table-cell;\">renderers&nbsp;=&nbsp;[GlyphRenderer(id='p3265', ...)],</div></div><div class=\"p3390\" style=\"display: none;\"><div style=\"display: table-cell;\"></div><div style=\"display: table-cell;\">reset_policy&nbsp;=&nbsp;'standard',</div></div><div class=\"p3390\" style=\"display: none;\"><div style=\"display: table-cell;\"></div><div style=\"display: table-cell;\">resizable&nbsp;=&nbsp;False,</div></div><div class=\"p3390\" style=\"display: none;\"><div style=\"display: table-cell;\"></div><div style=\"display: table-cell;\">right&nbsp;=&nbsp;[],</div></div><div class=\"p3390\" style=\"display: none;\"><div style=\"display: table-cell;\"></div><div style=\"display: table-cell;\">sizing_mode&nbsp;=&nbsp;None,</div></div><div class=\"p3390\" style=\"display: none;\"><div style=\"display: table-cell;\"></div><div style=\"display: table-cell;\">styles&nbsp;=&nbsp;{},</div></div><div class=\"p3390\" style=\"display: none;\"><div style=\"display: table-cell;\"></div><div style=\"display: table-cell;\">stylesheets&nbsp;=&nbsp;[],</div></div><div class=\"p3390\" style=\"display: none;\"><div style=\"display: table-cell;\"></div><div style=\"display: table-cell;\">subscribed_events&nbsp;=&nbsp;PropertyValueSet(),</div></div><div class=\"p3390\" style=\"display: none;\"><div style=\"display: table-cell;\"></div><div style=\"display: table-cell;\">syncable&nbsp;=&nbsp;True,</div></div><div class=\"p3390\" style=\"display: none;\"><div style=\"display: table-cell;\"></div><div style=\"display: table-cell;\">tags&nbsp;=&nbsp;[],</div></div><div class=\"p3390\" style=\"display: none;\"><div style=\"display: table-cell;\"></div><div style=\"display: table-cell;\">title&nbsp;=&nbsp;Title(id='p3217', ...),</div></div><div class=\"p3390\" style=\"display: none;\"><div style=\"display: table-cell;\"></div><div style=\"display: table-cell;\">title_location&nbsp;=&nbsp;'above',</div></div><div class=\"p3390\" style=\"display: none;\"><div style=\"display: table-cell;\"></div><div style=\"display: table-cell;\">toolbar&nbsp;=&nbsp;Toolbar(id='p3219', ...),</div></div><div class=\"p3390\" style=\"display: none;\"><div style=\"display: table-cell;\"></div><div style=\"display: table-cell;\">toolbar_inner&nbsp;=&nbsp;False,</div></div><div class=\"p3390\" style=\"display: none;\"><div style=\"display: table-cell;\"></div><div style=\"display: table-cell;\">toolbar_location&nbsp;=&nbsp;'above',</div></div><div class=\"p3390\" style=\"display: none;\"><div style=\"display: table-cell;\"></div><div style=\"display: table-cell;\">toolbar_sticky&nbsp;=&nbsp;True,</div></div><div class=\"p3390\" style=\"display: none;\"><div style=\"display: table-cell;\"></div><div style=\"display: table-cell;\">visible&nbsp;=&nbsp;True,</div></div><div class=\"p3390\" style=\"display: none;\"><div style=\"display: table-cell;\"></div><div style=\"display: table-cell;\">width&nbsp;=&nbsp;800,</div></div><div class=\"p3390\" style=\"display: none;\"><div style=\"display: table-cell;\"></div><div style=\"display: table-cell;\">width_policy&nbsp;=&nbsp;'auto',</div></div><div class=\"p3390\" style=\"display: none;\"><div style=\"display: table-cell;\"></div><div style=\"display: table-cell;\">x_range&nbsp;=&nbsp;Range1d(id='p3224', ...),</div></div><div class=\"p3390\" style=\"display: none;\"><div style=\"display: table-cell;\"></div><div style=\"display: table-cell;\">x_scale&nbsp;=&nbsp;LinearScale(id='p3228', ...),</div></div><div class=\"p3390\" style=\"display: none;\"><div style=\"display: table-cell;\"></div><div style=\"display: table-cell;\">y_range&nbsp;=&nbsp;FactorRange(id='p3226', ...),</div></div><div class=\"p3390\" style=\"display: none;\"><div style=\"display: table-cell;\"></div><div style=\"display: table-cell;\">y_scale&nbsp;=&nbsp;CategoricalScale(id='p3230', ...))</div></div></div>\n",
       "<script>\n",
       "(function() {\n",
       "  let expanded = false;\n",
       "  const ellipsis = document.getElementById(\"p3391\");\n",
       "  ellipsis.addEventListener(\"click\", function() {\n",
       "    const rows = document.getElementsByClassName(\"p3390\");\n",
       "    for (let i = 0; i < rows.length; i++) {\n",
       "      const el = rows[i];\n",
       "      el.style.display = expanded ? \"none\" : \"table-row\";\n",
       "    }\n",
       "    ellipsis.innerHTML = expanded ? \"&hellip;)\" : \"&lsaquo;&lsaquo;&lsaquo;\";\n",
       "    expanded = !expanded;\n",
       "  });\n",
       "})();\n",
       "</script>\n"
      ],
      "text/plain": [
       "figure(id='p3214', ...)"
      ]
     },
     "execution_count": 41,
     "metadata": {},
     "output_type": "execute_result"
    }
   ],
   "source": [
    "prof2.visualize()"
   ]
  },
  {
   "cell_type": "code",
   "execution_count": 43,
   "id": "c292cf6a",
   "metadata": {},
   "outputs": [],
   "source": [
    "!mv profile.html profile-mongo-shape.html"
   ]
  },
  {
   "cell_type": "markdown",
   "id": "5681e896",
   "metadata": {},
   "source": [
    "### Parquet"
   ]
  },
  {
   "cell_type": "code",
   "execution_count": 54,
   "id": "f2cf249f",
   "metadata": {},
   "outputs": [],
   "source": [
    "import pyarrow as pa"
   ]
  },
  {
   "cell_type": "code",
   "execution_count": 141,
   "id": "0d9b3466",
   "metadata": {},
   "outputs": [
    {
     "name": "stdout",
     "output_type": "stream",
     "text": [
      "CPU times: user 21min 55s, sys: 1min 6s, total: 23min 1s\n",
      "Wall time: 20min 27s\n"
     ]
    }
   ],
   "source": [
    "%%time\n",
    "\n",
    "df.to_parquet(\n",
    "    '../parquet/users.parquet',\n",
    "    engine='pyarrow',\n",
    "    compression=None,\n",
    "    overwrite=True,\n",
    "#     schema={\n",
    "#         'userid': pa.string(),\n",
    "#         'username': pa.string(),\n",
    "#         'location': pa.string(),\n",
    "#         'following': pa.int32(),\n",
    "#         'followers': pa.int32(),\n",
    "#         'totaltweets': pa.int32(),\n",
    "#         'usercreatedts': pa.date64()\n",
    "#     }\n",
    ")"
   ]
  },
  {
   "cell_type": "code",
   "execution_count": 142,
   "id": "2008f9f4",
   "metadata": {},
   "outputs": [],
   "source": [
    "dfp = dd.read_parquet('../parquet/users.parquet', engine='pyarrow')"
   ]
  },
  {
   "cell_type": "code",
   "execution_count": 143,
   "id": "59d1ba66",
   "metadata": {},
   "outputs": [
    {
     "name": "stdout",
     "output_type": "stream",
     "text": [
      "[########################################] | 100% Completed | 65.83 s\n",
      "CPU times: user 1min 14s, sys: 15.7 s, total: 1min 29s\n",
      "Wall time: 1min 5s\n"
     ]
    }
   ],
   "source": [
    "%%time\n",
    "\n",
    "with ProgressBar(dt=2.0), Profiler() as prof3:\n",
    "    dfp.shape[0].compute(), df.shape[1]  # all entries"
   ]
  },
  {
   "cell_type": "code",
   "execution_count": 144,
   "id": "e0854cdc",
   "metadata": {},
   "outputs": [
    {
     "data": {
      "text/html": [
       "<div style=\"display: table;\"><div style=\"display: table-row;\"><div style=\"display: table-cell;\"><b title=\"bokeh.plotting._figure.figure\">figure</b>(</div><div style=\"display: table-cell;\">id&nbsp;=&nbsp;'p3510', <span id=\"p3687\" style=\"cursor: pointer;\">&hellip;)</span></div></div><div class=\"p3686\" style=\"display: none;\"><div style=\"display: table-cell;\"></div><div style=\"display: table-cell;\">above&nbsp;=&nbsp;[],</div></div><div class=\"p3686\" style=\"display: none;\"><div style=\"display: table-cell;\"></div><div style=\"display: table-cell;\">align&nbsp;=&nbsp;'auto',</div></div><div class=\"p3686\" style=\"display: none;\"><div style=\"display: table-cell;\"></div><div style=\"display: table-cell;\">aspect_ratio&nbsp;=&nbsp;None,</div></div><div class=\"p3686\" style=\"display: none;\"><div style=\"display: table-cell;\"></div><div style=\"display: table-cell;\">aspect_scale&nbsp;=&nbsp;1,</div></div><div class=\"p3686\" style=\"display: none;\"><div style=\"display: table-cell;\"></div><div style=\"display: table-cell;\">background_fill_alpha&nbsp;=&nbsp;1.0,</div></div><div class=\"p3686\" style=\"display: none;\"><div style=\"display: table-cell;\"></div><div style=\"display: table-cell;\">background_fill_color&nbsp;=&nbsp;'#ffffff',</div></div><div class=\"p3686\" style=\"display: none;\"><div style=\"display: table-cell;\"></div><div style=\"display: table-cell;\">below&nbsp;=&nbsp;[LinearAxis(id='p3528', ...)],</div></div><div class=\"p3686\" style=\"display: none;\"><div style=\"display: table-cell;\"></div><div style=\"display: table-cell;\">border_fill_alpha&nbsp;=&nbsp;1.0,</div></div><div class=\"p3686\" style=\"display: none;\"><div style=\"display: table-cell;\"></div><div style=\"display: table-cell;\">border_fill_color&nbsp;=&nbsp;'#ffffff',</div></div><div class=\"p3686\" style=\"display: none;\"><div style=\"display: table-cell;\"></div><div style=\"display: table-cell;\">center&nbsp;=&nbsp;[Grid(id='p3534', ...), Grid(id='p3540', ...)],</div></div><div class=\"p3686\" style=\"display: none;\"><div style=\"display: table-cell;\"></div><div style=\"display: table-cell;\">context_menu&nbsp;=&nbsp;None,</div></div><div class=\"p3686\" style=\"display: none;\"><div style=\"display: table-cell;\"></div><div style=\"display: table-cell;\">css_classes&nbsp;=&nbsp;[],</div></div><div class=\"p3686\" style=\"display: none;\"><div style=\"display: table-cell;\"></div><div style=\"display: table-cell;\">disabled&nbsp;=&nbsp;False,</div></div><div class=\"p3686\" style=\"display: none;\"><div style=\"display: table-cell;\"></div><div style=\"display: table-cell;\">extra_x_ranges&nbsp;=&nbsp;{},</div></div><div class=\"p3686\" style=\"display: none;\"><div style=\"display: table-cell;\"></div><div style=\"display: table-cell;\">extra_x_scales&nbsp;=&nbsp;{},</div></div><div class=\"p3686\" style=\"display: none;\"><div style=\"display: table-cell;\"></div><div style=\"display: table-cell;\">extra_y_ranges&nbsp;=&nbsp;{},</div></div><div class=\"p3686\" style=\"display: none;\"><div style=\"display: table-cell;\"></div><div style=\"display: table-cell;\">extra_y_scales&nbsp;=&nbsp;{},</div></div><div class=\"p3686\" style=\"display: none;\"><div style=\"display: table-cell;\"></div><div style=\"display: table-cell;\">flow_mode&nbsp;=&nbsp;'block',</div></div><div class=\"p3686\" style=\"display: none;\"><div style=\"display: table-cell;\"></div><div style=\"display: table-cell;\">frame_align&nbsp;=&nbsp;True,</div></div><div class=\"p3686\" style=\"display: none;\"><div style=\"display: table-cell;\"></div><div style=\"display: table-cell;\">frame_height&nbsp;=&nbsp;None,</div></div><div class=\"p3686\" style=\"display: none;\"><div style=\"display: table-cell;\"></div><div style=\"display: table-cell;\">frame_width&nbsp;=&nbsp;None,</div></div><div class=\"p3686\" style=\"display: none;\"><div style=\"display: table-cell;\"></div><div style=\"display: table-cell;\">height&nbsp;=&nbsp;300,</div></div><div class=\"p3686\" style=\"display: none;\"><div style=\"display: table-cell;\"></div><div style=\"display: table-cell;\">height_policy&nbsp;=&nbsp;'auto',</div></div><div class=\"p3686\" style=\"display: none;\"><div style=\"display: table-cell;\"></div><div style=\"display: table-cell;\">hidpi&nbsp;=&nbsp;True,</div></div><div class=\"p3686\" style=\"display: none;\"><div style=\"display: table-cell;\"></div><div style=\"display: table-cell;\">hold_render&nbsp;=&nbsp;False,</div></div><div class=\"p3686\" style=\"display: none;\"><div style=\"display: table-cell;\"></div><div style=\"display: table-cell;\">js_event_callbacks&nbsp;=&nbsp;{},</div></div><div class=\"p3686\" style=\"display: none;\"><div style=\"display: table-cell;\"></div><div style=\"display: table-cell;\">js_property_callbacks&nbsp;=&nbsp;{},</div></div><div class=\"p3686\" style=\"display: none;\"><div style=\"display: table-cell;\"></div><div style=\"display: table-cell;\">left&nbsp;=&nbsp;[CategoricalAxis(id='p3535', ...)],</div></div><div class=\"p3686\" style=\"display: none;\"><div style=\"display: table-cell;\"></div><div style=\"display: table-cell;\">lod_factor&nbsp;=&nbsp;10,</div></div><div class=\"p3686\" style=\"display: none;\"><div style=\"display: table-cell;\"></div><div style=\"display: table-cell;\">lod_interval&nbsp;=&nbsp;300,</div></div><div class=\"p3686\" style=\"display: none;\"><div style=\"display: table-cell;\"></div><div style=\"display: table-cell;\">lod_threshold&nbsp;=&nbsp;2000,</div></div><div class=\"p3686\" style=\"display: none;\"><div style=\"display: table-cell;\"></div><div style=\"display: table-cell;\">lod_timeout&nbsp;=&nbsp;500,</div></div><div class=\"p3686\" style=\"display: none;\"><div style=\"display: table-cell;\"></div><div style=\"display: table-cell;\">margin&nbsp;=&nbsp;None,</div></div><div class=\"p3686\" style=\"display: none;\"><div style=\"display: table-cell;\"></div><div style=\"display: table-cell;\">match_aspect&nbsp;=&nbsp;False,</div></div><div class=\"p3686\" style=\"display: none;\"><div style=\"display: table-cell;\"></div><div style=\"display: table-cell;\">max_height&nbsp;=&nbsp;None,</div></div><div class=\"p3686\" style=\"display: none;\"><div style=\"display: table-cell;\"></div><div style=\"display: table-cell;\">max_width&nbsp;=&nbsp;None,</div></div><div class=\"p3686\" style=\"display: none;\"><div style=\"display: table-cell;\"></div><div style=\"display: table-cell;\">min_border&nbsp;=&nbsp;5,</div></div><div class=\"p3686\" style=\"display: none;\"><div style=\"display: table-cell;\"></div><div style=\"display: table-cell;\">min_border_bottom&nbsp;=&nbsp;None,</div></div><div class=\"p3686\" style=\"display: none;\"><div style=\"display: table-cell;\"></div><div style=\"display: table-cell;\">min_border_left&nbsp;=&nbsp;None,</div></div><div class=\"p3686\" style=\"display: none;\"><div style=\"display: table-cell;\"></div><div style=\"display: table-cell;\">min_border_right&nbsp;=&nbsp;None,</div></div><div class=\"p3686\" style=\"display: none;\"><div style=\"display: table-cell;\"></div><div style=\"display: table-cell;\">min_border_top&nbsp;=&nbsp;None,</div></div><div class=\"p3686\" style=\"display: none;\"><div style=\"display: table-cell;\"></div><div style=\"display: table-cell;\">min_height&nbsp;=&nbsp;None,</div></div><div class=\"p3686\" style=\"display: none;\"><div style=\"display: table-cell;\"></div><div style=\"display: table-cell;\">min_width&nbsp;=&nbsp;None,</div></div><div class=\"p3686\" style=\"display: none;\"><div style=\"display: table-cell;\"></div><div style=\"display: table-cell;\">name&nbsp;=&nbsp;None,</div></div><div class=\"p3686\" style=\"display: none;\"><div style=\"display: table-cell;\"></div><div style=\"display: table-cell;\">outline_line_alpha&nbsp;=&nbsp;1.0,</div></div><div class=\"p3686\" style=\"display: none;\"><div style=\"display: table-cell;\"></div><div style=\"display: table-cell;\">outline_line_cap&nbsp;=&nbsp;'butt',</div></div><div class=\"p3686\" style=\"display: none;\"><div style=\"display: table-cell;\"></div><div style=\"display: table-cell;\">outline_line_color&nbsp;=&nbsp;'#e5e5e5',</div></div><div class=\"p3686\" style=\"display: none;\"><div style=\"display: table-cell;\"></div><div style=\"display: table-cell;\">outline_line_dash&nbsp;=&nbsp;[],</div></div><div class=\"p3686\" style=\"display: none;\"><div style=\"display: table-cell;\"></div><div style=\"display: table-cell;\">outline_line_dash_offset&nbsp;=&nbsp;0,</div></div><div class=\"p3686\" style=\"display: none;\"><div style=\"display: table-cell;\"></div><div style=\"display: table-cell;\">outline_line_join&nbsp;=&nbsp;'bevel',</div></div><div class=\"p3686\" style=\"display: none;\"><div style=\"display: table-cell;\"></div><div style=\"display: table-cell;\">outline_line_width&nbsp;=&nbsp;1,</div></div><div class=\"p3686\" style=\"display: none;\"><div style=\"display: table-cell;\"></div><div style=\"display: table-cell;\">output_backend&nbsp;=&nbsp;'canvas',</div></div><div class=\"p3686\" style=\"display: none;\"><div style=\"display: table-cell;\"></div><div style=\"display: table-cell;\">renderers&nbsp;=&nbsp;[GlyphRenderer(id='p3561', ...)],</div></div><div class=\"p3686\" style=\"display: none;\"><div style=\"display: table-cell;\"></div><div style=\"display: table-cell;\">reset_policy&nbsp;=&nbsp;'standard',</div></div><div class=\"p3686\" style=\"display: none;\"><div style=\"display: table-cell;\"></div><div style=\"display: table-cell;\">resizable&nbsp;=&nbsp;False,</div></div><div class=\"p3686\" style=\"display: none;\"><div style=\"display: table-cell;\"></div><div style=\"display: table-cell;\">right&nbsp;=&nbsp;[],</div></div><div class=\"p3686\" style=\"display: none;\"><div style=\"display: table-cell;\"></div><div style=\"display: table-cell;\">sizing_mode&nbsp;=&nbsp;None,</div></div><div class=\"p3686\" style=\"display: none;\"><div style=\"display: table-cell;\"></div><div style=\"display: table-cell;\">styles&nbsp;=&nbsp;{},</div></div><div class=\"p3686\" style=\"display: none;\"><div style=\"display: table-cell;\"></div><div style=\"display: table-cell;\">stylesheets&nbsp;=&nbsp;[],</div></div><div class=\"p3686\" style=\"display: none;\"><div style=\"display: table-cell;\"></div><div style=\"display: table-cell;\">subscribed_events&nbsp;=&nbsp;PropertyValueSet(),</div></div><div class=\"p3686\" style=\"display: none;\"><div style=\"display: table-cell;\"></div><div style=\"display: table-cell;\">syncable&nbsp;=&nbsp;True,</div></div><div class=\"p3686\" style=\"display: none;\"><div style=\"display: table-cell;\"></div><div style=\"display: table-cell;\">tags&nbsp;=&nbsp;[],</div></div><div class=\"p3686\" style=\"display: none;\"><div style=\"display: table-cell;\"></div><div style=\"display: table-cell;\">title&nbsp;=&nbsp;Title(id='p3513', ...),</div></div><div class=\"p3686\" style=\"display: none;\"><div style=\"display: table-cell;\"></div><div style=\"display: table-cell;\">title_location&nbsp;=&nbsp;'above',</div></div><div class=\"p3686\" style=\"display: none;\"><div style=\"display: table-cell;\"></div><div style=\"display: table-cell;\">toolbar&nbsp;=&nbsp;Toolbar(id='p3515', ...),</div></div><div class=\"p3686\" style=\"display: none;\"><div style=\"display: table-cell;\"></div><div style=\"display: table-cell;\">toolbar_inner&nbsp;=&nbsp;False,</div></div><div class=\"p3686\" style=\"display: none;\"><div style=\"display: table-cell;\"></div><div style=\"display: table-cell;\">toolbar_location&nbsp;=&nbsp;'above',</div></div><div class=\"p3686\" style=\"display: none;\"><div style=\"display: table-cell;\"></div><div style=\"display: table-cell;\">toolbar_sticky&nbsp;=&nbsp;True,</div></div><div class=\"p3686\" style=\"display: none;\"><div style=\"display: table-cell;\"></div><div style=\"display: table-cell;\">visible&nbsp;=&nbsp;True,</div></div><div class=\"p3686\" style=\"display: none;\"><div style=\"display: table-cell;\"></div><div style=\"display: table-cell;\">width&nbsp;=&nbsp;800,</div></div><div class=\"p3686\" style=\"display: none;\"><div style=\"display: table-cell;\"></div><div style=\"display: table-cell;\">width_policy&nbsp;=&nbsp;'auto',</div></div><div class=\"p3686\" style=\"display: none;\"><div style=\"display: table-cell;\"></div><div style=\"display: table-cell;\">x_range&nbsp;=&nbsp;Range1d(id='p3520', ...),</div></div><div class=\"p3686\" style=\"display: none;\"><div style=\"display: table-cell;\"></div><div style=\"display: table-cell;\">x_scale&nbsp;=&nbsp;LinearScale(id='p3524', ...),</div></div><div class=\"p3686\" style=\"display: none;\"><div style=\"display: table-cell;\"></div><div style=\"display: table-cell;\">y_range&nbsp;=&nbsp;FactorRange(id='p3522', ...),</div></div><div class=\"p3686\" style=\"display: none;\"><div style=\"display: table-cell;\"></div><div style=\"display: table-cell;\">y_scale&nbsp;=&nbsp;CategoricalScale(id='p3526', ...))</div></div></div>\n",
       "<script>\n",
       "(function() {\n",
       "  let expanded = false;\n",
       "  const ellipsis = document.getElementById(\"p3687\");\n",
       "  ellipsis.addEventListener(\"click\", function() {\n",
       "    const rows = document.getElementsByClassName(\"p3686\");\n",
       "    for (let i = 0; i < rows.length; i++) {\n",
       "      const el = rows[i];\n",
       "      el.style.display = expanded ? \"none\" : \"table-row\";\n",
       "    }\n",
       "    ellipsis.innerHTML = expanded ? \"&hellip;)\" : \"&lsaquo;&lsaquo;&lsaquo;\";\n",
       "    expanded = !expanded;\n",
       "  });\n",
       "})();\n",
       "</script>\n"
      ],
      "text/plain": [
       "figure(id='p3510', ...)"
      ]
     },
     "execution_count": 144,
     "metadata": {},
     "output_type": "execute_result"
    }
   ],
   "source": [
    "prof3.visualize()"
   ]
  },
  {
   "cell_type": "code",
   "execution_count": 145,
   "id": "552b53e4",
   "metadata": {},
   "outputs": [],
   "source": [
    "!mv profile.html profile-parquet-shape.html"
   ]
  },
  {
   "cell_type": "markdown",
   "id": "0e877474",
   "metadata": {},
   "source": [
    "14x times faster!"
   ]
  },
  {
   "cell_type": "code",
   "execution_count": 147,
   "id": "b8e15cb1",
   "metadata": {},
   "outputs": [
    {
     "name": "stdout",
     "output_type": "stream",
     "text": [
      "[########################################] | 100% Completed | 74.63 s\n",
      "6538298\n",
      "CPU times: user 1min 51s, sys: 14 s, total: 2min 5s\n",
      "Wall time: 1min 14s\n"
     ]
    }
   ],
   "source": [
    "%%time\n",
    "\n",
    "with ProgressBar(dt=2.0):\n",
    "    print(dfp['userid'].unique().shape[0].compute())  # unique user ids"
   ]
  },
  {
   "cell_type": "code",
   "execution_count": 148,
   "id": "300110b2",
   "metadata": {},
   "outputs": [
    {
     "name": "stdout",
     "output_type": "stream",
     "text": [
      "[########################################] | 100% Completed | 202.28 s\n",
      "CPU times: user 4min 17s, sys: 18.2 s, total: 4min 35s\n",
      "Wall time: 3min 22s\n"
     ]
    }
   ],
   "source": [
    "%%time\n",
    "\n",
    "with ProgressBar(dt=2.0):\n",
    "    followers_distribution = dfp \\\n",
    "        .groupby('userid', group_keys=True, sort=False)['followers'] \\\n",
    "        .max() \\\n",
    "        .value_counts() \\\n",
    "        .compute()"
   ]
  },
  {
   "cell_type": "code",
   "execution_count": 149,
   "id": "f5574469",
   "metadata": {},
   "outputs": [
    {
     "data": {
      "text/plain": [
       "followers\n",
       "0           320261\n",
       "1           171917\n",
       "2           125541\n",
       "3           101097\n",
       "4            87141\n",
       "             ...  \n",
       "61572            1\n",
       "61573            1\n",
       "61574            1\n",
       "61577            1\n",
       "54997992         1\n",
       "Name: count, Length: 73339, dtype: int64"
      ]
     },
     "execution_count": 149,
     "metadata": {},
     "output_type": "execute_result"
    }
   ],
   "source": [
    "followers_distribution"
   ]
  },
  {
   "cell_type": "code",
   "execution_count": 153,
   "id": "c387e5f9",
   "metadata": {},
   "outputs": [
    {
     "name": "stdout",
     "output_type": "stream",
     "text": [
      "[########################################] | 100% Completed | 72.63 s\n"
     ]
    }
   ],
   "source": [
    "with ProgressBar(dt=2.0):\n",
    "    unique_userids = dfp['userid'].unique().compute()"
   ]
  },
  {
   "cell_type": "code",
   "execution_count": 157,
   "id": "62e71cac",
   "metadata": {},
   "outputs": [],
   "source": [
    "with open('../parquet/unique_userids.txt', 'w', encoding='utf-8') as f:\n",
    "    for userid in unique_userids.values:\n",
    "        f.write(userid + '\\n')"
   ]
  },
  {
   "cell_type": "code",
   "execution_count": null,
   "id": "a6d29748",
   "metadata": {},
   "outputs": [],
   "source": []
  }
 ],
 "metadata": {
  "kernelspec": {
   "display_name": "Python 3 (ipykernel)",
   "language": "python",
   "name": "python3"
  },
  "language_info": {
   "codemirror_mode": {
    "name": "ipython",
    "version": 3
   },
   "file_extension": ".py",
   "mimetype": "text/x-python",
   "name": "python",
   "nbconvert_exporter": "python",
   "pygments_lexer": "ipython3",
   "version": "3.10.6"
  }
 },
 "nbformat": 4,
 "nbformat_minor": 5
}

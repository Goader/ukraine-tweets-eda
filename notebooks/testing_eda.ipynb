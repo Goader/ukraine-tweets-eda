{
 "cells": [
  {
   "cell_type": "code",
   "execution_count": null,
   "outputs": [],
   "source": [
    "# Some more data explorations"
   ],
   "metadata": {
    "collapsed": false,
    "pycharm": {
     "name": "#%%\n"
    }
   }
  },
  {
   "cell_type": "code",
   "execution_count": 30,
   "metadata": {},
   "outputs": [],
   "source": [
    "import pandas as pd\n",
    "import matplotlib.pyplot as plt"
   ]
  },
  {
   "cell_type": "code",
   "execution_count": 16,
   "metadata": {},
   "outputs": [],
   "source": [
    "# REPLACE THE FILE WITH CORRECT PATH\n",
    "file = \"data/20230307_UkraineCombinedTweetsDeduped.csv\""
   ]
  },
  {
   "cell_type": "code",
   "execution_count": 26,
   "metadata": {},
   "outputs": [
    {
     "data": {
      "text/plain": "      UID        userid       username  \\\n0  180504  1.282574e+18     ripetvnews   \n1  180505  8.546982e+07    UNmigration   \n2  180506  8.247188e+07         zamoca   \n3  180507  1.524004e+18     pravda_eng   \n4  180508  1.235245e+18  InformazioneA   \n\n                                            acctdesc            location  \\\n0  Latest and Breaking News and Updates from all ...                 NaN   \n1  Official account of IOM | Promoting safe, regu...   Ginevra, Svizzera   \n2  Asa Grait-a Zamolxis, a Dacian ancient God who...  Parallel Metaverse   \n3  Official English page of Ukrainian media outle...             Ukraine   \n4  Aggiornamenti e podcast dedicati a questioni i...                 NaN   \n\n   following  followers  totaltweets        usercreatedts       tweetid  ...  \\\n0          4        197         3331  2020-07-13 07:16:00  1.632894e+18  ...   \n1       3506     216820        36260  2009-10-27 01:32:17  1.632894e+18  ...   \n2        128        297         8728  2009-10-14 22:21:39  1.632894e+18  ...   \n3         50      51589        13499  2022-05-10 14:25:11  1.632894e+18  ...   \n4        107       1290        24235  2020-03-04 16:43:53  1.632894e+18  ...   \n\n  original_tweet_userid  original_tweet_username in_reply_to_status_id  \\\n0                   0.0                      NaN                   0.0   \n1                   0.0                      NaN                   0.0   \n2                   0.0                      NaN                   0.0   \n3                   0.0                      NaN                   0.0   \n4                   0.0                      NaN                   0.0   \n\n  in_reply_to_user_id in_reply_to_screen_name is_quote_status  \\\n0                 0.0                     NaN           False   \n1                 0.0                     NaN           False   \n2                 0.0                     NaN           False   \n3                 0.0                     NaN           False   \n4                 0.0                     NaN           False   \n\n   quoted_status_id  quoted_status_userid  quoted_status_username  \\\n0               0.0                   0.0                     NaN   \n1               0.0                   0.0                     NaN   \n2               0.0                   0.0                     NaN   \n3               0.0                   0.0                     NaN   \n4               0.0                   0.0                     NaN   \n\n                  extractedts  \n0  2023-03-07 08:49:00.015526  \n1  2023-03-07 03:36:09.199785  \n2  2023-03-07 03:36:09.188978  \n3  2023-03-07 07:11:56.376415  \n4  2023-03-07 07:33:06.572288  \n\n[5 rows x 29 columns]",
      "text/html": "<div>\n<style scoped>\n    .dataframe tbody tr th:only-of-type {\n        vertical-align: middle;\n    }\n\n    .dataframe tbody tr th {\n        vertical-align: top;\n    }\n\n    .dataframe thead th {\n        text-align: right;\n    }\n</style>\n<table border=\"1\" class=\"dataframe\">\n  <thead>\n    <tr style=\"text-align: right;\">\n      <th></th>\n      <th>UID</th>\n      <th>userid</th>\n      <th>username</th>\n      <th>acctdesc</th>\n      <th>location</th>\n      <th>following</th>\n      <th>followers</th>\n      <th>totaltweets</th>\n      <th>usercreatedts</th>\n      <th>tweetid</th>\n      <th>...</th>\n      <th>original_tweet_userid</th>\n      <th>original_tweet_username</th>\n      <th>in_reply_to_status_id</th>\n      <th>in_reply_to_user_id</th>\n      <th>in_reply_to_screen_name</th>\n      <th>is_quote_status</th>\n      <th>quoted_status_id</th>\n      <th>quoted_status_userid</th>\n      <th>quoted_status_username</th>\n      <th>extractedts</th>\n    </tr>\n  </thead>\n  <tbody>\n    <tr>\n      <th>0</th>\n      <td>180504</td>\n      <td>1.282574e+18</td>\n      <td>ripetvnews</td>\n      <td>Latest and Breaking News and Updates from all ...</td>\n      <td>NaN</td>\n      <td>4</td>\n      <td>197</td>\n      <td>3331</td>\n      <td>2020-07-13 07:16:00</td>\n      <td>1.632894e+18</td>\n      <td>...</td>\n      <td>0.0</td>\n      <td>NaN</td>\n      <td>0.0</td>\n      <td>0.0</td>\n      <td>NaN</td>\n      <td>False</td>\n      <td>0.0</td>\n      <td>0.0</td>\n      <td>NaN</td>\n      <td>2023-03-07 08:49:00.015526</td>\n    </tr>\n    <tr>\n      <th>1</th>\n      <td>180505</td>\n      <td>8.546982e+07</td>\n      <td>UNmigration</td>\n      <td>Official account of IOM | Promoting safe, regu...</td>\n      <td>Ginevra, Svizzera</td>\n      <td>3506</td>\n      <td>216820</td>\n      <td>36260</td>\n      <td>2009-10-27 01:32:17</td>\n      <td>1.632894e+18</td>\n      <td>...</td>\n      <td>0.0</td>\n      <td>NaN</td>\n      <td>0.0</td>\n      <td>0.0</td>\n      <td>NaN</td>\n      <td>False</td>\n      <td>0.0</td>\n      <td>0.0</td>\n      <td>NaN</td>\n      <td>2023-03-07 03:36:09.199785</td>\n    </tr>\n    <tr>\n      <th>2</th>\n      <td>180506</td>\n      <td>8.247188e+07</td>\n      <td>zamoca</td>\n      <td>Asa Grait-a Zamolxis, a Dacian ancient God who...</td>\n      <td>Parallel Metaverse</td>\n      <td>128</td>\n      <td>297</td>\n      <td>8728</td>\n      <td>2009-10-14 22:21:39</td>\n      <td>1.632894e+18</td>\n      <td>...</td>\n      <td>0.0</td>\n      <td>NaN</td>\n      <td>0.0</td>\n      <td>0.0</td>\n      <td>NaN</td>\n      <td>False</td>\n      <td>0.0</td>\n      <td>0.0</td>\n      <td>NaN</td>\n      <td>2023-03-07 03:36:09.188978</td>\n    </tr>\n    <tr>\n      <th>3</th>\n      <td>180507</td>\n      <td>1.524004e+18</td>\n      <td>pravda_eng</td>\n      <td>Official English page of Ukrainian media outle...</td>\n      <td>Ukraine</td>\n      <td>50</td>\n      <td>51589</td>\n      <td>13499</td>\n      <td>2022-05-10 14:25:11</td>\n      <td>1.632894e+18</td>\n      <td>...</td>\n      <td>0.0</td>\n      <td>NaN</td>\n      <td>0.0</td>\n      <td>0.0</td>\n      <td>NaN</td>\n      <td>False</td>\n      <td>0.0</td>\n      <td>0.0</td>\n      <td>NaN</td>\n      <td>2023-03-07 07:11:56.376415</td>\n    </tr>\n    <tr>\n      <th>4</th>\n      <td>180508</td>\n      <td>1.235245e+18</td>\n      <td>InformazioneA</td>\n      <td>Aggiornamenti e podcast dedicati a questioni i...</td>\n      <td>NaN</td>\n      <td>107</td>\n      <td>1290</td>\n      <td>24235</td>\n      <td>2020-03-04 16:43:53</td>\n      <td>1.632894e+18</td>\n      <td>...</td>\n      <td>0.0</td>\n      <td>NaN</td>\n      <td>0.0</td>\n      <td>0.0</td>\n      <td>NaN</td>\n      <td>False</td>\n      <td>0.0</td>\n      <td>0.0</td>\n      <td>NaN</td>\n      <td>2023-03-07 07:33:06.572288</td>\n    </tr>\n  </tbody>\n</table>\n<p>5 rows × 29 columns</p>\n</div>"
     },
     "execution_count": 26,
     "metadata": {},
     "output_type": "execute_result"
    }
   ],
   "source": [
    "df = pd.read_csv(file)\n",
    "# rename the unnamed column\n",
    "df.rename( columns={'Unnamed: 0':'UID'}, inplace=True )\n",
    "\n",
    "df.head()"
   ]
  },
  {
   "cell_type": "code",
   "execution_count": 23,
   "outputs": [
    {
     "name": "stdout",
     "output_type": "stream",
     "text": [
      "155202 rows and 29 columns\n"
     ]
    }
   ],
   "source": [
    "# get shape of the DataFrame\n",
    "print(f\"{df.shape[0]} rows and {df.shape[1]} columns\")"
   ],
   "metadata": {
    "collapsed": false,
    "pycharm": {
     "name": "#%%\n"
    }
   }
  },
  {
   "cell_type": "code",
   "execution_count": 27,
   "outputs": [
    {
     "name": "stdout",
     "output_type": "stream",
     "text": [
      "<class 'pandas.core.frame.DataFrame'>\n",
      "RangeIndex: 155202 entries, 0 to 155201\n",
      "Data columns (total 29 columns):\n",
      " #   Column                   Non-Null Count   Dtype  \n",
      "---  ------                   --------------   -----  \n",
      " 0   UID                      155202 non-null  int64  \n",
      " 1   userid                   155202 non-null  float64\n",
      " 2   username                 155202 non-null  object \n",
      " 3   acctdesc                 121861 non-null  object \n",
      " 4   location                 91204 non-null   object \n",
      " 5   following                155202 non-null  int64  \n",
      " 6   followers                155202 non-null  int64  \n",
      " 7   totaltweets              155202 non-null  int64  \n",
      " 8   usercreatedts            155202 non-null  object \n",
      " 9   tweetid                  155202 non-null  float64\n",
      " 10  tweetcreatedts           155202 non-null  object \n",
      " 11  retweetcount             155202 non-null  int64  \n",
      " 12  text                     155202 non-null  object \n",
      " 13  hashtags                 155202 non-null  object \n",
      " 14  language                 155202 non-null  object \n",
      " 15  coordinates              317 non-null     object \n",
      " 16  favorite_count           155202 non-null  int64  \n",
      " 17  is_retweet               155202 non-null  bool   \n",
      " 18  original_tweet_id        155202 non-null  float64\n",
      " 19  original_tweet_userid    155202 non-null  float64\n",
      " 20  original_tweet_username  101522 non-null  object \n",
      " 21  in_reply_to_status_id    155202 non-null  float64\n",
      " 22  in_reply_to_user_id      155202 non-null  float64\n",
      " 23  in_reply_to_screen_name  14255 non-null   object \n",
      " 24  is_quote_status          155202 non-null  bool   \n",
      " 25  quoted_status_id         155202 non-null  float64\n",
      " 26  quoted_status_userid     155202 non-null  float64\n",
      " 27  quoted_status_username   6931 non-null    object \n",
      " 28  extractedts              155202 non-null  object \n",
      "dtypes: bool(2), float64(8), int64(6), object(13)\n",
      "memory usage: 32.3+ MB\n"
     ]
    }
   ],
   "source": [
    "df.info()"
   ],
   "metadata": {
    "collapsed": false,
    "pycharm": {
     "name": "#%%\n"
    }
   }
  },
  {
   "cell_type": "code",
   "execution_count": 28,
   "outputs": [
    {
     "name": "stdout",
     "output_type": "stream",
     "text": [
      "<class 'pandas.core.frame.DataFrame'>\n",
      "RangeIndex: 155202 entries, 0 to 155201\n",
      "Data columns (total 29 columns):\n",
      " #   Column                   Non-Null Count   Dtype         \n",
      "---  ------                   --------------   -----         \n",
      " 0   UID                      155202 non-null  int64         \n",
      " 1   userid                   155202 non-null  float64       \n",
      " 2   username                 155202 non-null  object        \n",
      " 3   acctdesc                 121861 non-null  object        \n",
      " 4   location                 91204 non-null   object        \n",
      " 5   following                155202 non-null  int64         \n",
      " 6   followers                155202 non-null  int64         \n",
      " 7   totaltweets              155202 non-null  int64         \n",
      " 8   usercreatedts            155202 non-null  datetime64[ns]\n",
      " 9   tweetid                  155202 non-null  float64       \n",
      " 10  tweetcreatedts           155202 non-null  datetime64[ns]\n",
      " 11  retweetcount             155202 non-null  int64         \n",
      " 12  text                     155202 non-null  object        \n",
      " 13  hashtags                 155202 non-null  object        \n",
      " 14  language                 155202 non-null  object        \n",
      " 15  coordinates              317 non-null     object        \n",
      " 16  favorite_count           155202 non-null  int64         \n",
      " 17  is_retweet               155202 non-null  bool          \n",
      " 18  original_tweet_id        155202 non-null  float64       \n",
      " 19  original_tweet_userid    155202 non-null  float64       \n",
      " 20  original_tweet_username  101522 non-null  object        \n",
      " 21  in_reply_to_status_id    155202 non-null  float64       \n",
      " 22  in_reply_to_user_id      155202 non-null  float64       \n",
      " 23  in_reply_to_screen_name  14255 non-null   object        \n",
      " 24  is_quote_status          155202 non-null  bool          \n",
      " 25  quoted_status_id         155202 non-null  float64       \n",
      " 26  quoted_status_userid     155202 non-null  float64       \n",
      " 27  quoted_status_username   6931 non-null    object        \n",
      " 28  extractedts              155202 non-null  datetime64[ns]\n",
      "dtypes: bool(2), datetime64[ns](3), float64(8), int64(6), object(10)\n",
      "memory usage: 32.3+ MB\n"
     ]
    }
   ],
   "source": [
    "# Change the dtypes of usercreatedts, tweetcreatedts, and extractedts to datetime64 for easier operation later.\n",
    "df[\"usercreatedts\"] = pd.to_datetime(df[\"usercreatedts\"])\n",
    "df[\"tweetcreatedts\"] = pd.to_datetime(df[\"tweetcreatedts\"])\n",
    "df[\"extractedts\"] = pd.to_datetime(df[\"extractedts\"])\n",
    "\n",
    "# check dtypes\n",
    "df.info()"
   ],
   "metadata": {
    "collapsed": false,
    "pycharm": {
     "name": "#%%\n"
    }
   }
  },
  {
   "cell_type": "code",
   "execution_count": 29,
   "outputs": [
    {
     "name": "stdout",
     "output_type": "stream",
     "text": [
      "The earliest tweet was at 2023-03-07 00:00:00, and the latest was at 2023-03-07 23:59:59\n"
     ]
    }
   ],
   "source": [
    "earliest_tweet = df[\"tweetcreatedts\"].min()\n",
    "latest_tweet = df[\"tweetcreatedts\"].max()\n",
    "\n",
    "print(f\"The earliest tweet was at {earliest_tweet}, and the latest was at {latest_tweet}\")"
   ],
   "metadata": {
    "collapsed": false,
    "pycharm": {
     "name": "#%%\n"
    }
   }
  },
  {
   "cell_type": "code",
   "execution_count": 39,
   "outputs": [
    {
     "data": {
      "text/plain": "<Figure size 432x288 with 1 Axes>",
      "image/png": "[encoded data removed]"
     },
     "metadata": {
      "needs_background": "light"
     },
     "output_type": "display_data"
    }
   ],
   "source": [
    "# get dates in the dataframe\n",
    "dates = df[\"tweetcreatedts\"].dt.hour\n",
    "# group tweet timestamps by date and get tweet count for each date\n",
    "tweetcount_by_date = df[\"tweetcreatedts\"].groupby(dates).size()\n",
    "\n",
    "# plot bar graph of tweet count by date\n",
    "tweetcount_by_date.plot.bar();\n",
    "\n",
    "plt.title(\"Tweet Count by Hour on 07.03.2023\")\n",
    "plt.xlabel(\"Tweet Date\")\n",
    "plt.ylabel(\"Tweet Count\")\n",
    "plt.xticks(rotation=0)\n",
    "plt.show()"
   ],
   "metadata": {
    "collapsed": false,
    "pycharm": {
     "name": "#%%\n"
    }
   }
  },
  {
   "cell_type": "code",
   "execution_count": 33,
   "outputs": [
    {
     "name": "stdout",
     "output_type": "stream",
     "text": [
      "There are 61 unique languages in this DataFrame.\n"
     ]
    },
    {
     "data": {
      "text/plain": "array(['en', 'es', 'fr', 'eu', 'de', 'ru', 'und', 'in', 'it', 'uk', 'cs',\n       'pl', 'fa', 'th', 'sl', 'nl', 'bg', 'zh', 'pt', 'hi', 'iw', 'ja',\n       'tr', 'ro', 'vi', 'ar', 'el', 'fi', 'ca', 'ht', 'sv', 'no', 'ur',\n       'cy', 'kn', 'tl', 'is', 'lv', 'ko', 'lt', 'bn', 'ta', 'my', 'da',\n       'gu', 'te', 'et', 'sr', 'km', 'si', 'ne', 'ka', 'ml', 'am', 'sd',\n       'mr', 'pa', 'hu', 'ps', 'or', 'hy'], dtype=object)"
     },
     "execution_count": 33,
     "metadata": {},
     "output_type": "execute_result"
    }
   ],
   "source": [
    "print(f\"There are {df['language'].nunique()} unique languages in this DataFrame.\")\n",
    "df[\"language\"].unique()"
   ],
   "metadata": {
    "collapsed": false,
    "pycharm": {
     "name": "#%%\n"
    }
   }
  },
  {
   "cell_type": "code",
   "execution_count": 34,
   "outputs": [
    {
     "name": "stdout",
     "output_type": "stream",
     "text": [
      "57.55% of the tweets are in English.\n"
     ]
    }
   ],
   "source": [
    "print(f\"{round(df.loc[df['language']=='en'].shape[0]/df.shape[0]*100, 2)}% of the tweets are in English.\")"
   ],
   "metadata": {
    "collapsed": false,
    "pycharm": {
     "name": "#%%\n"
    }
   }
  },
  {
   "cell_type": "code",
   "execution_count": 40,
   "outputs": [
    {
     "data": {
      "text/plain": "<Figure size 864x432 with 1 Axes>",
      "image/png": "[encoded data removed]"
     },
     "metadata": {
      "needs_background": "light"
     },
     "output_type": "display_data"
    }
   ],
   "source": [
    "language_counts = df.groupby(\"language\").size().sort_values(ascending=False)[0:20].plot.bar(figsize=(12,6),\n",
    "                 title=\"Top 20 Languages by Frequency\",\n",
    "                 xlabel=\"Language Code\",\n",
    "                 ylabel=\"Number of Tweets\",\n",
    "                 rot=90\n",
    "                 );\n",
    "\n",
    "plt.xticks(rotation=0)\n",
    "plt.show()"
   ],
   "metadata": {
    "collapsed": false,
    "pycharm": {
     "name": "#%%\n"
    }
   }
  },
  {
   "cell_type": "code",
   "execution_count": 37,
   "outputs": [
    {
     "data": {
      "text/plain": "17                                                  @ZelenskyyUa #GloryToUkraine #RussiaIsATerroristState\n29                                                          @ukrainiansquad #SlavaUkraini \\n#HeroyamSlava\n48                                                                           #Слава_Україні #SlavaUkraini\n54        #Celtics #Cavaliers #ChrisEvans #GloryToUkraine #NewZealand #NewTwitter https://t.co/58QS81XtBJ\n57                                                                  #SlavaUkraini https://t.co/geIcAU7Lfl\n                                                       ...                                               \n155156                       #Georgia 🇬🇪✊🏻\\n\\n📷 @nexta_tv https://t.co/ZuZECKrmTV https://t.co/KrxCueDCbd\n155160                       #Georgia 🇬🇪✊🏻\\n\\n📷 @nexta_tv https://t.co/ZuZECKrmTV https://t.co/KrxCueDCbd\n155186                                                               #Tbilisi #EU https://t.co/H7q99mjof1\n155192                                                               #Georgia ❤️🤗 https://t.co/mjF54HiQYA\n155194                                                                      @DefenceU RIP🕯\\n#SlavaUkraini\nName: text, Length: 13277, dtype: object"
     },
     "execution_count": 37,
     "metadata": {},
     "output_type": "execute_result"
    }
   ],
   "source": [
    "# pull the rows for which their language code is \"und\" or undefined\n",
    "language_und = df.loc[df[\"language\"]==\"und\"]\n",
    "# show full length of the text without truncating (...)\n",
    "pd.set_option('display.max_colwidth', None)\n",
    "# show tweets\n",
    "language_und[\"text\"]"
   ],
   "metadata": {
    "collapsed": false,
    "pycharm": {
     "name": "#%%\n"
    }
   }
  },
  {
   "cell_type": "code",
   "execution_count": null,
   "outputs": [],
   "source": [],
   "metadata": {
    "collapsed": false,
    "pycharm": {
     "name": "#%%\n"
    }
   }
  },
  {
   "cell_type": "code",
   "execution_count": null,
   "outputs": [],
   "source": [],
   "metadata": {
    "collapsed": false,
    "pycharm": {
     "name": "#%%\n"
    }
   }
  }
 ],
 "metadata": {
  "kernelspec": {
   "display_name": "Python 3",
   "language": "python",
   "name": "python3"
  },
  "language_info": {
   "codemirror_mode": {
    "name": "ipython",
    "version": 3
   },
   "file_extension": ".py",
   "mimetype": "text/x-python",
   "name": "python",
   "nbconvert_exporter": "python",
   "pygments_lexer": "ipython3",
   "version": "3.8.0"
  }
 },
 "nbformat": 4,
 "nbformat_minor": 1
}
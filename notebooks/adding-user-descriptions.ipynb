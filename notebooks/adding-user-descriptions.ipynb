{
 "cells": [
  {
   "cell_type": "markdown",
   "id": "93451664",
   "metadata": {},
   "source": [
    "# Adding user descriptions"
   ]
  },
  {
   "cell_type": "code",
   "execution_count": 1,
   "id": "a143e53b",
   "metadata": {},
   "outputs": [],
   "source": [
    "import numpy as np\n",
    "import pandas as pd\n",
    "import seaborn as sns\n",
    "import matplotlib.pyplot as plt\n",
    "\n",
    "import dask\n",
    "import dask_mongo\n",
    "import dask.dataframe as dd\n",
    "\n",
    "from langcodes import Language"
   ]
  },
  {
   "cell_type": "code",
   "execution_count": 2,
   "id": "061a6c95",
   "metadata": {},
   "outputs": [],
   "source": [
    "sns.set_theme(style='darkgrid')"
   ]
  },
  {
   "cell_type": "markdown",
   "id": "e92b5223",
   "metadata": {},
   "source": [
    "## Reading in"
   ]
  },
  {
   "cell_type": "code",
   "execution_count": 3,
   "id": "d9398b7d",
   "metadata": {},
   "outputs": [],
   "source": [
    "from IPython.display import JSON\n",
    "import json\n",
    "\n",
    "import mercury as mr"
   ]
  },
  {
   "cell_type": "code",
   "execution_count": 4,
   "id": "5c8d6d90",
   "metadata": {},
   "outputs": [
    {
     "name": "stdout",
     "output_type": "stream",
     "text": [
      "tweets.parquet\tunique-users.jsonl  unique_userids.txt\tusers.parquet\r\n"
     ]
    }
   ],
   "source": [
    "!ls ../parquet"
   ]
  },
  {
   "cell_type": "code",
   "execution_count": 5,
   "id": "ea0f6159",
   "metadata": {},
   "outputs": [],
   "source": [
    "with open('../parquet/unique-users.jsonl', 'r', encoding='utf-8') as f:\n",
    "    example_user = json.loads(f.readline())"
   ]
  },
  {
   "cell_type": "code",
   "execution_count": 6,
   "id": "00b060b3",
   "metadata": {},
   "outputs": [
    {
     "data": {
      "text/html": [
       "<style>.renderjson a              { text-decoration: none; }\n",
       ".renderjson .disclosure    { color: grey; font-size: 125%; }\n",
       ".renderjson .syntax        { color: grey; }\n",
       ".renderjson .string        { color: #fe46a5; }\n",
       ".renderjson .number        { color: #0f9b8e; }\n",
       ".renderjson .boolean       { color: black; }\n",
       ".renderjson .key           { color: #2684ff; }\n",
       ".renderjson .keyword       { color: gray; }\n",
       ".renderjson .object.syntax { color: gray; }\n",
       ".renderjson .array.syntax  { color: gray; }</style><div id=\"0e73e09f-5d8c-4e3f-9ddb-b35ec0960f31\"></div>"
      ],
      "text/plain": [
       "<IPython.core.display.HTML object>"
      ]
     },
     "metadata": {},
     "output_type": "display_data"
    },
    {
     "data": {
      "text/html": [
       "<script>var renderjson=function(){var t=function(){for(var t=[];arguments.length;)t.push(n(s(Array.prototype.shift.call(arguments)),o(Array.prototype.shift.call(arguments))));return t},n=function(){for(var t=Array.prototype.shift.call(arguments),e=0;e<arguments.length;e++)arguments[e].constructor==Array?n.apply(this,[t].concat(arguments[e])):t.appendChild(arguments[e]);return t},e=function(t,n){return t.insertBefore(n,t.firstChild),t},r=function(t,n){var e=n||Object.keys(t);for(var r in e)if(Object.hasOwnProperty.call(t,e[r]))return!1;return!0},o=function(t){return document.createTextNode(t)},s=function(t){var n=document.createElement(\"span\");return t&&(n.className=t),n},l=function(t,n,e){var r=document.createElement(\"a\");return n&&(r.className=n),r.appendChild(o(t)),r.href=\"#\",r.onclick=function(t){return e(),t&&t.stopPropagation(),!1},r};function a(i,c,u,p,y){var _=u?\"\":c,f=function(r,a,i,c,u){var f,g=s(c),h=function(){f||n(g.parentNode,f=e(u(),l(y.hide,\"disclosure\",(function(){f.style.display=\"none\",g.style.display=\"inline\"})))),f.style.display=\"inline\",g.style.display=\"none\"};n(g,l(y.show,\"disclosure\",h),t(c+\" syntax\",r),l(a,null,h),t(c+\" syntax\",i));var d=n(s(),o(_.slice(0,-1)),g);return p>0&&\"string\"!=c&&h(),d};return null===i?t(null,_,\"keyword\",\"null\"):void 0===i?t(null,_,\"keyword\",\"undefined\"):\"string\"==typeof i&&i.length>y.max_string_length?f('\"',i.substr(0,y.max_string_length)+\" ...\",'\"',\"string\",(function(){return n(s(\"string\"),t(null,_,\"string\",JSON.stringify(i)))})):\"object\"!=typeof i||[Number,String,Boolean,Date].indexOf(i.constructor)>=0?t(null,_,typeof i,JSON.stringify(i)):i.constructor==Array?0==i.length?t(null,_,\"array syntax\",\"[]\"):f(\"[\",y.collapse_msg(i.length),\"]\",\"array\",(function(){for(var e=n(s(\"array\"),t(\"array syntax\",\"[\",null,\"\\n\")),r=0;r<i.length;r++)n(e,a(y.replacer.call(i,r,i[r]),c+\"    \",!1,p-1,y),r!=i.length-1?t(\"syntax\",\",\"):[],o(\"\\n\"));return n(e,t(null,c,\"array syntax\",\"]\")),e})):r(i,y.property_list)?t(null,_,\"object syntax\",\"{}\"):f(\"{\",y.collapse_msg(Object.keys(i).length),\"}\",\"object\",(function(){var e=n(s(\"object\"),t(\"object syntax\",\"{\",null,\"\\n\"));for(var r in i)var l=r;var u=y.property_list||Object.keys(i);for(var _ in y.sort_objects&&(u=u.sort()),u){(r=u[_])in i&&n(e,t(null,c+\"    \",\"key\",'\"'+r+'\"',\"object syntax\",\": \"),a(y.replacer.call(i,r,i[r]),c+\"    \",!0,p-1,y),r!=l?t(\"syntax\",\",\"):[],o(\"\\n\"))}return n(e,t(null,c,\"object syntax\",\"}\")),e}))}var i=function t(e){var r=new Object(t.options);r.replacer=\"function\"==typeof r.replacer?r.replacer:function(t,n){return n};var o=n(document.createElement(\"pre\"),a(e,\"\",!1,r.show_to_level,r));return o.className=\"renderjson\",o};return i.set_icons=function(t,n){return i.options.show=t,i.options.hide=n,i},i.set_show_to_level=function(t){return i.options.show_to_level=\"string\"==typeof t&&\"all\"===t.toLowerCase()?Number.MAX_VALUE:t,i},i.set_max_string_length=function(t){return i.options.max_string_length=\"string\"==typeof t&&\"none\"===t.toLowerCase()?Number.MAX_VALUE:t,i},i.set_sort_objects=function(t){return i.options.sort_objects=t,i},i.set_replacer=function(t){return i.options.replacer=t,i},i.set_collapse_msg=function(t){return i.options.collapse_msg=t,i},i.set_property_list=function(t){return i.options.property_list=t,i},i.set_show_by_default=function(t){return i.options.show_to_level=t?Number.MAX_VALUE:0,i},i.options={},i.set_icons(\"⊕\",\"⊖\"),i.set_show_by_default(!1),i.set_sort_objects(!1),i.set_max_string_length(\"none\"),i.set_replacer(void 0),i.set_property_list(void 0),i.set_collapse_msg((function(t){return t+\" item\"+(1==t?\"\":\"s\")})),i}(); renderjson.set_show_to_level(1); document.getElementById(\"0e73e09f-5d8c-4e3f-9ddb-b35ec0960f31\").appendChild(renderjson({\"id\": 1237027988287471618, \"id_str\": \"1237027988287471618\", \"name\": \"Palestina Internacional Broadcast\", \"screen_name\": \"pbi_es\", \"location\": \"Palestina\", \"description\": \"Palestina Internacional Broadcast es la primera transmisi\\u00f3n internacional p\\u00fablica en Palestina, ayuda y da voz a la comunidad Palestina.\", \"url\": null, \"entities\": {\"description\": {\"urls\": []}}, \"protected\": false, \"followers_count\": 8524, \"friends_count\": 130, \"listed_count\": 40, \"created_at\": \"Mon Mar 09 14:50:40 +0000 2020\", \"favourites_count\": 694, \"utc_offset\": null, \"time_zone\": null, \"geo_enabled\": true, \"verified\": false, \"statuses_count\": 9383, \"lang\": null, \"status\": {\"created_at\": \"Sat Apr 15 17:05:21 +0000 2023\", \"id\": 1647284990323949570, \"id_str\": \"1647284990323949570\", \"full_text\": \"\\u203c\\ufe0fEsta es la democracia israel\\u00ed, no tienen respeto a la fiesta de cristianos y musulmanes\\u203c\\ufe0f\\n\\nLas fuerzas de ocupaci\\u00f3n atacan a los cristianos durante su ceremonia del S\\u00e1bado Santo Ortodoxo en Jerusal\\u00e9n, Palestina https://t.co/UnHQtZkWyk\", \"truncated\": false, \"display_text_range\": [0, 212], \"entities\": {\"hashtags\": [], \"symbols\": [], \"user_mentions\": [], \"urls\": [], \"media\": [{\"id\": 1647284868449984517, \"id_str\": \"1647284868449984517\", \"indices\": [213, 236], \"media_url\": \"http://pbs.twimg.com/ext_tw_video_thumb/1647284868449984517/pu/img/yTS4lAX0vFP9Y69L.jpg\", \"media_url_https\": \"https://pbs.twimg.com/ext_tw_video_thumb/1647284868449984517/pu/img/yTS4lAX0vFP9Y69L.jpg\", \"url\": \"https://t.co/UnHQtZkWyk\", \"display_url\": \"pic.twitter.com/UnHQtZkWyk\", \"expanded_url\": \"https://twitter.com/pbi_es/status/1647284990323949570/video/1\", \"type\": \"photo\", \"sizes\": {\"small\": {\"w\": 594, \"h\": 680, \"resize\": \"fit\"}, \"thumb\": {\"w\": 150, \"h\": 150, \"resize\": \"crop\"}, \"large\": {\"w\": 720, \"h\": 824, \"resize\": \"fit\"}, \"medium\": {\"w\": 720, \"h\": 824, \"resize\": \"fit\"}}}]}, \"extended_entities\": {\"media\": [{\"id\": 1647284868449984517, \"id_str\": \"1647284868449984517\", \"indices\": [213, 236], \"media_url\": \"http://pbs.twimg.com/ext_tw_video_thumb/1647284868449984517/pu/img/yTS4lAX0vFP9Y69L.jpg\", \"media_url_https\": \"https://pbs.twimg.com/ext_tw_video_thumb/1647284868449984517/pu/img/yTS4lAX0vFP9Y69L.jpg\", \"url\": \"https://t.co/UnHQtZkWyk\", \"display_url\": \"pic.twitter.com/UnHQtZkWyk\", \"expanded_url\": \"https://twitter.com/pbi_es/status/1647284990323949570/video/1\", \"type\": \"video\", \"sizes\": {\"small\": {\"w\": 594, \"h\": 680, \"resize\": \"fit\"}, \"thumb\": {\"w\": 150, \"h\": 150, \"resize\": \"crop\"}, \"large\": {\"w\": 720, \"h\": 824, \"resize\": \"fit\"}, \"medium\": {\"w\": 720, \"h\": 824, \"resize\": \"fit\"}}, \"video_info\": {\"aspect_ratio\": [90, 103], \"duration_millis\": 28223, \"variants\": [{\"bitrate\": 2176000, \"content_type\": \"video/mp4\", \"url\": \"https://video.twimg.com/ext_tw_video/1647284868449984517/pu/vid/720x824/lC9gw5KaOWEYhqzR.mp4?tag=12\"}, {\"bitrate\": 950000, \"content_type\": \"video/mp4\", \"url\": \"https://video.twimg.com/ext_tw_video/1647284868449984517/pu/vid/480x548/hemZow9wpT1dTebo.mp4?tag=12\"}, {\"content_type\": \"application/x-mpegURL\", \"url\": \"https://video.twimg.com/ext_tw_video/1647284868449984517/pu/pl/WmOXTsrDIhWPp3j5.m3u8?tag=12&container=fmp4\"}, {\"bitrate\": 632000, \"content_type\": \"video/mp4\", \"url\": \"https://video.twimg.com/ext_tw_video/1647284868449984517/pu/vid/320x366/dq5alr9ieAiFEcQZ.mp4?tag=12\"}]}, \"additional_media_info\": {\"monetizable\": false}}]}, \"source\": \"<a href=\\\"http://twitter.com/download/iphone\\\" rel=\\\"nofollow\\\">Twitter for iPhone</a>\", \"in_reply_to_status_id\": null, \"in_reply_to_status_id_str\": null, \"in_reply_to_user_id\": null, \"in_reply_to_user_id_str\": null, \"in_reply_to_screen_name\": null, \"geo\": null, \"coordinates\": null, \"place\": null, \"contributors\": null, \"is_quote_status\": false, \"retweet_count\": 7, \"favorite_count\": 2, \"favorited\": false, \"retweeted\": false, \"possibly_sensitive\": false, \"lang\": \"es\"}, \"contributors_enabled\": false, \"is_translator\": false, \"is_translation_enabled\": false, \"profile_background_color\": \"F5F8FA\", \"profile_background_image_url\": null, \"profile_background_image_url_https\": null, \"profile_background_tile\": false, \"profile_image_url\": \"http://pbs.twimg.com/profile_images/1497645472596516871/Z2p3rITF_normal.jpg\", \"profile_image_url_https\": \"https://pbs.twimg.com/profile_images/1497645472596516871/Z2p3rITF_normal.jpg\", \"profile_banner_url\": \"https://pbs.twimg.com/profile_banners/1237027988287471618/1637972268\", \"profile_link_color\": \"1DA1F2\", \"profile_sidebar_border_color\": \"C0DEED\", \"profile_sidebar_fill_color\": \"DDEEF6\", \"profile_text_color\": \"333333\", \"profile_use_background_image\": true, \"has_extended_profile\": false, \"default_profile\": true, \"default_profile_image\": false, \"following\": false, \"follow_request_sent\": false, \"notifications\": false, \"translator_type\": \"none\", \"withheld_in_countries\": []}))</script>"
      ],
      "text/plain": [
       "<IPython.core.display.HTML object>"
      ]
     },
     "metadata": {},
     "output_type": "display_data"
    }
   ],
   "source": [
    "mr.JSON(example_user)"
   ]
  },
  {
   "cell_type": "markdown",
   "id": "f57d2bfc",
   "metadata": {},
   "source": [
    "Keys we are interested in:\n",
    "\n",
    "* `id`\n",
    "* `name` - account name\n",
    "* `screen_name` - account username\n",
    "* `location` - user-specified string, can be literally anything\n",
    "* `description` - profile description\n",
    "* `verified` - verified account\n",
    "* `followers_count` - number of followers\n",
    "* `friends_count` - number of followings\n",
    "* `listed_count` - number of public lists account is member of (research this lists further!)\n",
    "* `favourites_count` - number of tweets user has liked (may identify the activity, and if this is a real person)\n",
    "* `statuses_count` - tweets count (including retweets)\n",
    "* `created_at` - date the account has been created\n",
    "* `entities` -> `description` ????\n",
    "* lang by description or by tweets? do we need it at all?"
   ]
  },
  {
   "cell_type": "code",
   "execution_count": 49,
   "id": "949f3043",
   "metadata": {},
   "outputs": [],
   "source": [
    "df = dd.read_json('../parquet/unique-users-filtered.jsonl', blocksize=5_000_000)"
   ]
  },
  {
   "cell_type": "code",
   "execution_count": 51,
   "id": "e538c60e",
   "metadata": {},
   "outputs": [
    {
     "data": {
      "text/html": [
       "<div>\n",
       "<style scoped>\n",
       "    .dataframe tbody tr th:only-of-type {\n",
       "        vertical-align: middle;\n",
       "    }\n",
       "\n",
       "    .dataframe tbody tr th {\n",
       "        vertical-align: top;\n",
       "    }\n",
       "\n",
       "    .dataframe thead th {\n",
       "        text-align: right;\n",
       "    }\n",
       "</style>\n",
       "<table border=\"1\" class=\"dataframe\">\n",
       "  <thead>\n",
       "    <tr style=\"text-align: right;\">\n",
       "      <th></th>\n",
       "      <th>id</th>\n",
       "      <th>name</th>\n",
       "      <th>username</th>\n",
       "      <th>location</th>\n",
       "      <th>description</th>\n",
       "      <th>verified</th>\n",
       "      <th>followers</th>\n",
       "      <th>followings</th>\n",
       "      <th>listed</th>\n",
       "      <th>tweets_liked</th>\n",
       "      <th>tweets</th>\n",
       "      <th>created_at</th>\n",
       "    </tr>\n",
       "  </thead>\n",
       "  <tbody>\n",
       "    <tr>\n",
       "      <th>0</th>\n",
       "      <td>1237027988287471618</td>\n",
       "      <td>Palestina Internacional Broadcast</td>\n",
       "      <td>pbi_es</td>\n",
       "      <td>Palestina</td>\n",
       "      <td>Palestina Internacional Broadcast es la primer...</td>\n",
       "      <td>False</td>\n",
       "      <td>8524</td>\n",
       "      <td>130</td>\n",
       "      <td>40</td>\n",
       "      <td>694</td>\n",
       "      <td>9383</td>\n",
       "      <td>2020-03-09 14:50:40+00:00</td>\n",
       "    </tr>\n",
       "    <tr>\n",
       "      <th>1</th>\n",
       "      <td>1407899290790473732</td>\n",
       "      <td>Section Chine</td>\n",
       "      <td>SectionChine</td>\n",
       "      <td></td>\n",
       "      <td>Infos sans préjugés sur la Chine, avec une dom...</td>\n",
       "      <td>False</td>\n",
       "      <td>2107</td>\n",
       "      <td>2137</td>\n",
       "      <td>3</td>\n",
       "      <td>8243</td>\n",
       "      <td>457</td>\n",
       "      <td>2021-06-24 06:06:32+00:00</td>\n",
       "    </tr>\n",
       "    <tr>\n",
       "      <th>2</th>\n",
       "      <td>6509832</td>\n",
       "      <td>News18</td>\n",
       "      <td>CNNnews18</td>\n",
       "      <td>India</td>\n",
       "      <td>Official Twitter account of CNN-News18. Lightn...</td>\n",
       "      <td>True</td>\n",
       "      <td>4741218</td>\n",
       "      <td>397</td>\n",
       "      <td>6979</td>\n",
       "      <td>202</td>\n",
       "      <td>1028336</td>\n",
       "      <td>2007-06-01 20:31:01+00:00</td>\n",
       "    </tr>\n",
       "    <tr>\n",
       "      <th>3</th>\n",
       "      <td>1570222426570608641</td>\n",
       "      <td>Amazing Metaverse</td>\n",
       "      <td>AmazingMeta</td>\n",
       "      <td>Los Angeles</td>\n",
       "      <td>We are Amazing Metaverse! We are venturing int...</td>\n",
       "      <td>False</td>\n",
       "      <td>90</td>\n",
       "      <td>489</td>\n",
       "      <td>0</td>\n",
       "      <td>669</td>\n",
       "      <td>1180</td>\n",
       "      <td>2022-09-15 01:26:48+00:00</td>\n",
       "    </tr>\n",
       "    <tr>\n",
       "      <th>4</th>\n",
       "      <td>216893584</td>\n",
       "      <td>Periódico La Visión</td>\n",
       "      <td>lavisionatl</td>\n",
       "      <td>Atlanta Georgia</td>\n",
       "      <td>Empieza tu día informado con Periódico La Visi...</td>\n",
       "      <td>False</td>\n",
       "      <td>3167</td>\n",
       "      <td>949</td>\n",
       "      <td>70</td>\n",
       "      <td>2134</td>\n",
       "      <td>55632</td>\n",
       "      <td>2010-11-18 00:38:14+00:00</td>\n",
       "    </tr>\n",
       "  </tbody>\n",
       "</table>\n",
       "</div>"
      ],
      "text/plain": [
       "                    id                               name      username   \n",
       "0  1237027988287471618  Palestina Internacional Broadcast        pbi_es  \\\n",
       "1  1407899290790473732                      Section Chine  SectionChine   \n",
       "2              6509832                             News18     CNNnews18   \n",
       "3  1570222426570608641                  Amazing Metaverse   AmazingMeta   \n",
       "4            216893584                Periódico La Visión   lavisionatl   \n",
       "\n",
       "          location                                        description   \n",
       "0        Palestina  Palestina Internacional Broadcast es la primer...  \\\n",
       "1                   Infos sans préjugés sur la Chine, avec une dom...   \n",
       "2            India  Official Twitter account of CNN-News18. Lightn...   \n",
       "3      Los Angeles  We are Amazing Metaverse! We are venturing int...   \n",
       "4  Atlanta Georgia  Empieza tu día informado con Periódico La Visi...   \n",
       "\n",
       "   verified  followers  followings  listed  tweets_liked   tweets   \n",
       "0     False       8524         130      40           694     9383  \\\n",
       "1     False       2107        2137       3          8243      457   \n",
       "2      True    4741218         397    6979           202  1028336   \n",
       "3     False         90         489       0           669     1180   \n",
       "4     False       3167         949      70          2134    55632   \n",
       "\n",
       "                 created_at  \n",
       "0 2020-03-09 14:50:40+00:00  \n",
       "1 2021-06-24 06:06:32+00:00  \n",
       "2 2007-06-01 20:31:01+00:00  \n",
       "3 2022-09-15 01:26:48+00:00  \n",
       "4 2010-11-18 00:38:14+00:00  "
      ]
     },
     "execution_count": 51,
     "metadata": {},
     "output_type": "execute_result"
    }
   ],
   "source": [
    "df.head(5)"
   ]
  },
  {
   "cell_type": "code",
   "execution_count": 52,
   "id": "906cbfb0",
   "metadata": {},
   "outputs": [
    {
     "data": {
      "text/plain": [
       "id                            int64\n",
       "name                         object\n",
       "username                     object\n",
       "location                     object\n",
       "description                  object\n",
       "verified                       bool\n",
       "followers                     int64\n",
       "followings                    int64\n",
       "listed                        int64\n",
       "tweets_liked                  int64\n",
       "tweets                        int64\n",
       "created_at      datetime64[ns, UTC]\n",
       "dtype: object"
      ]
     },
     "execution_count": 52,
     "metadata": {},
     "output_type": "execute_result"
    }
   ],
   "source": [
    "df.dtypes"
   ]
  },
  {
   "cell_type": "markdown",
   "id": "1c42eeee",
   "metadata": {},
   "source": [
    "## Writing to parquet"
   ]
  },
  {
   "cell_type": "code",
   "execution_count": 53,
   "id": "63aea254",
   "metadata": {},
   "outputs": [],
   "source": [
    "from dask.diagnostics import ProgressBar"
   ]
  },
  {
   "cell_type": "code",
   "execution_count": 57,
   "id": "18abc765",
   "metadata": {
    "scrolled": false
   },
   "outputs": [
    {
     "name": "stdout",
     "output_type": "stream",
     "text": [
      "[########################################] | 100% Completed | 31m 59s\n"
     ]
    }
   ],
   "source": [
    "with ProgressBar(dt=2.0):\n",
    "    df.to_parquet(\n",
    "        '../parquet/users-full.parquet',\n",
    "        engine='pyarrow',\n",
    "        compression=None,\n",
    "        overwrite=True,   \n",
    "    )"
   ]
  },
  {
   "cell_type": "code",
   "execution_count": null,
   "id": "fcdd5617",
   "metadata": {},
   "outputs": [],
   "source": []
  }
 ],
 "metadata": {
  "kernelspec": {
   "display_name": "Python 3 (ipykernel)",
   "language": "python",
   "name": "python3"
  },
  "language_info": {
   "codemirror_mode": {
    "name": "ipython",
    "version": 3
   },
   "file_extension": ".py",
   "mimetype": "text/x-python",
   "name": "python",
   "nbconvert_exporter": "python",
   "pygments_lexer": "ipython3",
   "version": "3.10.6"
  }
 },
 "nbformat": 4,
 "nbformat_minor": 5
}
